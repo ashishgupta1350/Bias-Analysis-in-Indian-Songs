{
 "cells": [
  {
   "cell_type": "code",
   "execution_count": 1,
   "metadata": {
    "collapsed": true
   },
   "outputs": [],
   "source": [
    "import pandas as pd\n",
    "import numpy as np\n",
    "import nltk\n",
    "import gensim \n",
    "from gensim.models.phrases import Phrases, Phraser\n",
    "import re\n",
    "from wordcloud import WordCloud\n",
    "import matplotlib.pyplot as plt\n",
    "from sklearn.feature_selection import SelectFromModel\n",
    "from sklearn.feature_extraction.text import TfidfVectorizer\n",
    "from sklearn.feature_extraction.text import CountVectorizer\n",
    "from collections import defaultdict\n",
    "from collections import Counter \n",
    "from gensim.models import Word2Vec\n",
    "from googletrans import Translator\n",
    "from gensim.models import FastText"
   ]
  },
  {
   "cell_type": "code",
   "execution_count": 2,
   "metadata": {
    "collapsed": true
   },
   "outputs": [],
   "source": [
    "data=pd.read_csv(\"Indian_songs.csv\")"
   ]
  },
  {
   "cell_type": "code",
   "execution_count": 3,
   "metadata": {},
   "outputs": [
    {
     "data": {
      "text/html": [
       "<div>\n",
       "<style>\n",
       "    .dataframe thead tr:only-child th {\n",
       "        text-align: right;\n",
       "    }\n",
       "\n",
       "    .dataframe thead th {\n",
       "        text-align: left;\n",
       "    }\n",
       "\n",
       "    .dataframe tbody tr th {\n",
       "        vertical-align: top;\n",
       "    }\n",
       "</style>\n",
       "<table border=\"1\" class=\"dataframe\">\n",
       "  <thead>\n",
       "    <tr style=\"text-align: right;\">\n",
       "      <th></th>\n",
       "      <th>movieName</th>\n",
       "      <th>songName</th>\n",
       "      <th>songSinger</th>\n",
       "      <th>songMusic</th>\n",
       "      <th>songLyricist</th>\n",
       "      <th>songLyrics</th>\n",
       "    </tr>\n",
       "  </thead>\n",
       "  <tbody>\n",
       "    <tr>\n",
       "      <th>0</th>\n",
       "      <td>Bala</td>\n",
       "      <td>Don’t Be Shy</td>\n",
       "      <td>Badshah, Shalmali Kholgade, Gurdeep Mehendi</td>\n",
       "      <td>Sachin-Jigar</td>\n",
       "      <td>Mellow D, Badshah</td>\n",
       "      <td>Sun, main hoon thoda sanki\\nKarun mann ki\\nBab...</td>\n",
       "    </tr>\n",
       "    <tr>\n",
       "      <th>1</th>\n",
       "      <td>Laal Kaptaan</td>\n",
       "      <td>Lahu Ka Rang Kara</td>\n",
       "      <td>Samira Koppikar</td>\n",
       "      <td>Samira Koppikar</td>\n",
       "      <td>Sahib</td>\n",
       "      <td>Morey.. lahu ka rang kara\\nMorey lahu ka rang ...</td>\n",
       "    </tr>\n",
       "    <tr>\n",
       "      <th>2</th>\n",
       "      <td>Laal Kaptaan</td>\n",
       "      <td>Red Red Najariya</td>\n",
       "      <td>Shreya Ghoshal</td>\n",
       "      <td>Samira Koppikar</td>\n",
       "      <td>Saurabh Jain</td>\n",
       "      <td>Badnaam shehar, badnaam gully\\nIsme har raat h...</td>\n",
       "    </tr>\n",
       "    <tr>\n",
       "      <th>3</th>\n",
       "      <td>Laal Kaptaan</td>\n",
       "      <td>Kaal Kaal</td>\n",
       "      <td>Brijesh Shandilya, Dino James</td>\n",
       "      <td>Samira Koppikar</td>\n",
       "      <td>Saurabh Jain</td>\n",
       "      <td>Kaal kaal, kaal kaal, jo sapaat chal raha\\nWo ...</td>\n",
       "    </tr>\n",
       "    <tr>\n",
       "      <th>4</th>\n",
       "      <td>Laal Kaptaan</td>\n",
       "      <td>Taandav</td>\n",
       "      <td>Kailash Kher, Brijesh Shandilya</td>\n",
       "      <td>Samira Koppikar</td>\n",
       "      <td>Puneet Sharma</td>\n",
       "      <td>Shor hai andher mein\\nJo dher murda pedon ka\\n...</td>\n",
       "    </tr>\n",
       "  </tbody>\n",
       "</table>\n",
       "</div>"
      ],
      "text/plain": [
       "      movieName           songName  \\\n",
       "0          Bala       Don’t Be Shy   \n",
       "1  Laal Kaptaan  Lahu Ka Rang Kara   \n",
       "2  Laal Kaptaan   Red Red Najariya   \n",
       "3  Laal Kaptaan          Kaal Kaal   \n",
       "4  Laal Kaptaan            Taandav   \n",
       "\n",
       "                                    songSinger        songMusic  \\\n",
       "0  Badshah, Shalmali Kholgade, Gurdeep Mehendi     Sachin-Jigar   \n",
       "1                              Samira Koppikar  Samira Koppikar   \n",
       "2                               Shreya Ghoshal  Samira Koppikar   \n",
       "3                Brijesh Shandilya, Dino James  Samira Koppikar   \n",
       "4              Kailash Kher, Brijesh Shandilya  Samira Koppikar   \n",
       "\n",
       "        songLyricist                                         songLyrics  \n",
       "0  Mellow D, Badshah  Sun, main hoon thoda sanki\\nKarun mann ki\\nBab...  \n",
       "1              Sahib  Morey.. lahu ka rang kara\\nMorey lahu ka rang ...  \n",
       "2       Saurabh Jain  Badnaam shehar, badnaam gully\\nIsme har raat h...  \n",
       "3       Saurabh Jain  Kaal kaal, kaal kaal, jo sapaat chal raha\\nWo ...  \n",
       "4      Puneet Sharma  Shor hai andher mein\\nJo dher murda pedon ka\\n...  "
      ]
     },
     "execution_count": 3,
     "metadata": {},
     "output_type": "execute_result"
    }
   ],
   "source": [
    "data.head()"
   ]
  },
  {
   "cell_type": "code",
   "execution_count": null,
   "metadata": {},
   "outputs": [],
   "source": []
  },
  {
   "cell_type": "code",
   "execution_count": null,
   "metadata": {
    "collapsed": true
   },
   "outputs": [],
   "source": []
  },
  {
   "cell_type": "code",
   "execution_count": null,
   "metadata": {
    "collapsed": true
   },
   "outputs": [],
   "source": []
  },
  {
   "cell_type": "code",
   "execution_count": null,
   "metadata": {
    "collapsed": true
   },
   "outputs": [],
   "source": []
  },
  {
   "cell_type": "code",
   "execution_count": 4,
   "metadata": {
    "collapsed": true
   },
   "outputs": [],
   "source": [
    "doc=[]\n",
    "for i in range(data.shape[0]):\n",
    "    doc.append(nltk.word_tokenize(re.sub('[^a-zA-z\\s]','',data['songLyrics'][i].lower())))"
   ]
  },
  {
   "cell_type": "code",
   "execution_count": null,
   "metadata": {
    "collapsed": true
   },
   "outputs": [],
   "source": []
  },
  {
   "cell_type": "code",
   "execution_count": 5,
   "metadata": {
    "collapsed": true
   },
   "outputs": [],
   "source": [
    "doc_sent=[]\n",
    "for i in range(data.shape[0]):\n",
    "    doc_sent.append(re.sub('[^a-zA-z\\s]','',data['songLyrics'][i].lower()).split(\"\\n\"))\n",
    "nonrep_doc=[]\n",
    "for song in doc_sent:\n",
    "    d=[]\n",
    "    for line in song:\n",
    "        if line not in d:\n",
    "            d.append(line)\n",
    "    nonrep_doc.append(d)"
   ]
  },
  {
   "cell_type": "code",
   "execution_count": 6,
   "metadata": {},
   "outputs": [
    {
     "data": {
      "text/plain": [
       "['sun main hoon thoda sanki',\n",
       " 'karun mann ki',\n",
       " 'baby gaana lagade thoda funky',\n",
       " 'nahi mann ki',\n",
       " 'nahi dhan ki',\n",
       " 'ye baat hai tere tann ki',\n",
       " '',\n",
       " 'paagal ho jaaun jab tu ho rubaru',\n",
       " 'na lamba ocha gora chitta',\n",
       " 'phir bhi dil mein tu',\n",
       " 'ishq ne tere kiya hai bekaboo',\n",
       " 'jaisa hai waisa hi pasand mujhko tu jaanu',\n",
       " 'i just wanna feel your body',\n",
       " 'saanu kare ishaare',\n",
       " 'touch my body',\n",
       " 'dont be shy my honey',\n",
       " 'i wanna feel your body',\n",
       " 'fly my honey',\n",
       " 'befikar fly my honey',\n",
       " 'kuch bhi bole bina',\n",
       " 'aankhon se tu baat kare',\n",
       " 'ye shaitani jaan bujhke mere saath kare',\n",
       " 'tujhko dekhe bina dil mera ab kahin lage nahi',\n",
       " 'tere husn pe aankhein sek sek kar thake nahi',\n",
       " 'upar se raat hoti ja rahi hai naughty naughty naughty']"
      ]
     },
     "execution_count": 6,
     "metadata": {},
     "output_type": "execute_result"
    }
   ],
   "source": [
    "nonrep_doc[0]"
   ]
  },
  {
   "cell_type": "code",
   "execution_count": 7,
   "metadata": {
    "collapsed": true
   },
   "outputs": [],
   "source": [
    "doc1=[]\n",
    "for i in nonrep_doc:\n",
    "    for j in i:\n",
    "        if j =='':\n",
    "            continue\n",
    "        doc1.append(nltk.word_tokenize(j))"
   ]
  },
  {
   "cell_type": "code",
   "execution_count": 8,
   "metadata": {},
   "outputs": [
    {
     "data": {
      "text/plain": [
       "['paagal', 'ho', 'jaaun', 'jab', 'tu', 'ho', 'rubaru']"
      ]
     },
     "execution_count": 8,
     "metadata": {},
     "output_type": "execute_result"
    }
   ],
   "source": [
    "doc1[6]"
   ]
  },
  {
   "cell_type": "code",
   "execution_count": null,
   "metadata": {
    "collapsed": true
   },
   "outputs": [],
   "source": []
  },
  {
   "cell_type": "code",
   "execution_count": 9,
   "metadata": {
    "collapsed": true
   },
   "outputs": [],
   "source": [
    "def weat_test(target_one,target_two, target_one_words, attribute_one,attribute_two, attribute_one_words, target_two_words, attribute_two_words):\n",
    "    cos=[]\n",
    "    s=0\n",
    "    s1=[]\n",
    "    s2=[]\n",
    "    S=[]\n",
    "    n=0\n",
    "    for i in range(0, len(target_one_words)):\n",
    "            c1=[]\n",
    "            c2=[]\n",
    "            for k in range(0, len(attribute_one_words)):\n",
    "                wt = target_one_words[i]\n",
    "                at1 = attribute_one_words[k]\n",
    "                try:\n",
    "                    cos1= model.similarity(wt, at1)\n",
    "                    cos.append(cos1)\n",
    "                    c1.append(cos1)\n",
    "                except:\n",
    "                    cos1=0\n",
    "                    cos.append(cos1)\n",
    "                    c1.append(cos1)\n",
    "                    continue\n",
    "            for k in range(0, len(attribute_two_words)):\n",
    "                cos2=0\n",
    "                wt = target_one_words[i]\n",
    "                at2 = attribute_two_words[k]\n",
    "                try:\n",
    "                    cos2= model.similarity(wt, at2)\n",
    "                    cos.append(cos2)\n",
    "                    c2.append(cos2)\n",
    "                except:\n",
    "                    cos2=0\n",
    "                    cos.append(cos2)\n",
    "                    c2.append(cos2)\n",
    "                    continue\n",
    "            s1.append((np.mean(c1)-np.mean(c2)))\n",
    "            S.append((np.mean(c1)-np.mean(c2)))\n",
    "            n=n+1\n",
    "    for i in range(0, len(target_two_words)):\n",
    "            c1=[]\n",
    "            c2=[]\n",
    "            for k in range(0, len(attribute_one_words)):\n",
    "                wt = target_two_words[i]\n",
    "                at1 = attribute_one_words[k]\n",
    "                try:\n",
    "                    cos1= model.similarity(wt, at1)\n",
    "                    cos.append(cos1)\n",
    "                    c1.append(cos1)\n",
    "                except:\n",
    "                    cos1=0\n",
    "                    cos.append(cos1)\n",
    "                    c1.append(cos1)\n",
    "                    continue\n",
    "            for k in range(0, len(attribute_two_words)):\n",
    "                cos2=0\n",
    "                wt = target_two_words[i]\n",
    "                at2 = attribute_two_words[k]\n",
    "                try:\n",
    "                    cos2= model.similarity(wt, at2)\n",
    "                    cos.append(cos2)\n",
    "                    c2.append(cos2)\n",
    "                except:\n",
    "                    cos2=0\n",
    "                    cos.append(cos2)\n",
    "                    c2.append(cos2)\n",
    "                    continue\n",
    "            s2.append((np.mean(c1)-np.mean(c2)))\n",
    "            S.append((np.mean(c1)-np.mean(c2)))\n",
    "    s=np.sum(s1)-np.sum(s2)\n",
    "    stdev=np.std(S)\n",
    "    print(target_one + ' vs ' + target_two  + ' , ' +attribute_one + ' vs ' + attribute_two +', d = ' + str(s/(stdev*n)))"
   ]
  },
  {
   "cell_type": "code",
   "execution_count": 10,
   "metadata": {
    "collapsed": true
   },
   "outputs": [],
   "source": [
    "female_names=['ladki','girl','gori','lady','kudi','chhori','woman']\n",
    "male_names=['ladka','munda','mundey','boy','chokra','chhora','man']\n",
    "\n",
    "color =['sanwali','saanwala','pink','pinky','red','laal','kaala','kaali','gori','gora','white','black','yellow','brown']\n",
    "\n",
    "softAttitude=['bholi','bhola','komalkomal','heeran','hirni','nadaan','beautiful','mastani','mastana','seedhi','seedha','sharmili','sharmeela','sohni','sohna','bhali','bhala']\n",
    "strongAttitude=['kukkad','bigda','bigdi','khatra','khauf','handa','jungli','badmash','gussa']\n",
    "\n",
    "cars=['car', 'gaddi','drive','lamborghini','jaguar','gaadi','motorcycle']\n",
    "clothes=['jeans','skirt','shirt','lehnga','chunni','ainak','ghagra','kurta','pajama','jacket','choodi','jhumka','chasma','chashma','kangan','top']\n",
    "food=['namkeen','mithi','tikhi','teekha','khatti','makkhan','sweet','nimbu','imli','mitthe','rasmalai','mirchi','mishti','naariyal']\n",
    "alcohol=['daaru','whisky','daru','pila','botal','peg','shots','drink','peeta']\n",
    "bodylooks=['choti','chota','cheeks','adayein','thumka','aankhen','aankhein','nazron','charming']"
   ]
  },
  {
   "cell_type": "code",
   "execution_count": null,
   "metadata": {
    "collapsed": true
   },
   "outputs": [],
   "source": []
  },
  {
   "cell_type": "code",
   "execution_count": null,
   "metadata": {
    "collapsed": true
   },
   "outputs": [],
   "source": []
  },
  {
   "cell_type": "markdown",
   "metadata": {
    "collapsed": true
   },
   "source": [
    "# Word2vec using gensim"
   ]
  },
  {
   "cell_type": "code",
   "execution_count": 11,
   "metadata": {
    "collapsed": true
   },
   "outputs": [],
   "source": [
    "model = gensim.models.Word2Vec(doc,size=200,window=15,min_count=2,workers=10,iter=10) "
   ]
  },
  {
   "cell_type": "code",
   "execution_count": 12,
   "metadata": {},
   "outputs": [
    {
     "name": "stdout",
     "output_type": "stream",
     "text": [
      "female_names vs male_names , softAttitude vs strongAttitude, d = 0.8058709034607879\n"
     ]
    },
    {
     "name": "stderr",
     "output_type": "stream",
     "text": [
      "/Users/shefalibansal/anaconda3/lib/python3.6/site-packages/ipykernel_launcher.py:15: DeprecationWarning: Call to deprecated `similarity` (Method will be removed in 4.0.0, use self.wv.similarity() instead).\n",
      "  from ipykernel import kernelapp as app\n",
      "/Users/shefalibansal/anaconda3/lib/python3.6/site-packages/ipykernel_launcher.py:28: DeprecationWarning: Call to deprecated `similarity` (Method will be removed in 4.0.0, use self.wv.similarity() instead).\n",
      "/Users/shefalibansal/anaconda3/lib/python3.6/site-packages/ipykernel_launcher.py:46: DeprecationWarning: Call to deprecated `similarity` (Method will be removed in 4.0.0, use self.wv.similarity() instead).\n",
      "/Users/shefalibansal/anaconda3/lib/python3.6/site-packages/ipykernel_launcher.py:59: DeprecationWarning: Call to deprecated `similarity` (Method will be removed in 4.0.0, use self.wv.similarity() instead).\n"
     ]
    }
   ],
   "source": [
    "\n",
    "weat_test('female_names','male_names', female_names, 'softAttitude' ,'strongAttitude', softAttitude, male_names, strongAttitude)"
   ]
  },
  {
   "cell_type": "code",
   "execution_count": null,
   "metadata": {
    "collapsed": true
   },
   "outputs": [],
   "source": []
  },
  {
   "cell_type": "code",
   "execution_count": null,
   "metadata": {
    "collapsed": true
   },
   "outputs": [],
   "source": []
  },
  {
   "cell_type": "code",
   "execution_count": null,
   "metadata": {
    "collapsed": true
   },
   "outputs": [],
   "source": []
  },
  {
   "cell_type": "code",
   "execution_count": null,
   "metadata": {
    "collapsed": true
   },
   "outputs": [],
   "source": []
  },
  {
   "cell_type": "code",
   "execution_count": null,
   "metadata": {
    "collapsed": true
   },
   "outputs": [],
   "source": []
  },
  {
   "cell_type": "markdown",
   "metadata": {},
   "source": [
    "# Calculating Average Similarity - word2vec"
   ]
  },
  {
   "cell_type": "code",
   "execution_count": 13,
   "metadata": {
    "collapsed": true
   },
   "outputs": [],
   "source": [
    "# li1=['tu','ye','maa','sukun','harami']\n",
    "# li2=['aaa','gori','laal','sharabi']"
   ]
  },
  {
   "cell_type": "code",
   "execution_count": 14,
   "metadata": {},
   "outputs": [],
   "source": [
    "def avg_similarity(target,attribute):\n",
    "   \n",
    "    S=[]\n",
    "    \n",
    "    for i in range(0, len(target)):\n",
    "        \n",
    "#         cos.append(model.similarity(target[i],attribute))\n",
    "#             c1=[]\n",
    "        maxlist=[]    \n",
    "        for k in range(0, len(attribute)):\n",
    "            maxlist.append(model.similarity(target[i], attribute[k]))\n",
    "            \n",
    "        maxlist.sort(reverse=True)\n",
    "        \n",
    "        for j in range(0,4):\n",
    "            S.append(maxlist[j])\n",
    "            \n",
    "        ans= np.array(S).sum()/(len(target)*4)\n",
    "\n",
    "        \n",
    "        \n",
    "        \n",
    "    return ans"
   ]
  },
  {
   "cell_type": "code",
   "execution_count": 15,
   "metadata": {},
   "outputs": [
    {
     "name": "stderr",
     "output_type": "stream",
     "text": [
      "/Users/shefalibansal/anaconda3/lib/python3.6/site-packages/ipykernel_launcher.py:11: DeprecationWarning: Call to deprecated `similarity` (Method will be removed in 4.0.0, use self.wv.similarity() instead).\n",
      "  # This is added back by InteractiveShellApp.init_path()\n"
     ]
    },
    {
     "data": {
      "text/plain": [
       "0.5377033318917798"
      ]
     },
     "execution_count": 15,
     "metadata": {},
     "output_type": "execute_result"
    }
   ],
   "source": [
    "avg_similarity(female_names,color)"
   ]
  },
  {
   "cell_type": "code",
   "execution_count": 16,
   "metadata": {
    "collapsed": true
   },
   "outputs": [],
   "source": [
    "att=['color','softAttitude','strongAttitude','cars','clothes','food','alcohol','bodylooks']\n",
    "fem_score=[]\n",
    "male_score=[]"
   ]
  },
  {
   "cell_type": "code",
   "execution_count": 17,
   "metadata": {},
   "outputs": [],
   "source": [
    "att1=[color,softAttitude,strongAttitude,cars, clothes,food,alcohol,bodylooks]"
   ]
  },
  {
   "cell_type": "code",
   "execution_count": 18,
   "metadata": {},
   "outputs": [
    {
     "name": "stderr",
     "output_type": "stream",
     "text": [
      "/Users/shefalibansal/anaconda3/lib/python3.6/site-packages/ipykernel_launcher.py:11: DeprecationWarning: Call to deprecated `similarity` (Method will be removed in 4.0.0, use self.wv.similarity() instead).\n",
      "  # This is added back by InteractiveShellApp.init_path()\n"
     ]
    }
   ],
   "source": [
    "for lis in att1:\n",
    "    \n",
    "    fem_score.append(avg_similarity(female_names,lis))\n",
    "    male_score.append(avg_similarity(male_names,lis))"
   ]
  },
  {
   "cell_type": "code",
   "execution_count": null,
   "metadata": {},
   "outputs": [],
   "source": []
  },
  {
   "cell_type": "code",
   "execution_count": 19,
   "metadata": {},
   "outputs": [],
   "source": [
    "avg_sim=pd.DataFrame({'attribute':att,'female_names':fem_score,'male_names':male_score})"
   ]
  },
  {
   "cell_type": "code",
   "execution_count": 20,
   "metadata": {},
   "outputs": [
    {
     "data": {
      "text/html": [
       "<div>\n",
       "<style>\n",
       "    .dataframe thead tr:only-child th {\n",
       "        text-align: right;\n",
       "    }\n",
       "\n",
       "    .dataframe thead th {\n",
       "        text-align: left;\n",
       "    }\n",
       "\n",
       "    .dataframe tbody tr th {\n",
       "        vertical-align: top;\n",
       "    }\n",
       "</style>\n",
       "<table border=\"1\" class=\"dataframe\">\n",
       "  <thead>\n",
       "    <tr style=\"text-align: right;\">\n",
       "      <th></th>\n",
       "      <th>attribute</th>\n",
       "      <th>female_names</th>\n",
       "      <th>male_names</th>\n",
       "    </tr>\n",
       "  </thead>\n",
       "  <tbody>\n",
       "    <tr>\n",
       "      <th>0</th>\n",
       "      <td>color</td>\n",
       "      <td>0.537703</td>\n",
       "      <td>0.548279</td>\n",
       "    </tr>\n",
       "    <tr>\n",
       "      <th>1</th>\n",
       "      <td>softAttitude</td>\n",
       "      <td>0.485988</td>\n",
       "      <td>0.512739</td>\n",
       "    </tr>\n",
       "    <tr>\n",
       "      <th>2</th>\n",
       "      <td>strongAttitude</td>\n",
       "      <td>0.349349</td>\n",
       "      <td>0.495873</td>\n",
       "    </tr>\n",
       "    <tr>\n",
       "      <th>3</th>\n",
       "      <td>cars</td>\n",
       "      <td>0.452626</td>\n",
       "      <td>0.505229</td>\n",
       "    </tr>\n",
       "    <tr>\n",
       "      <th>4</th>\n",
       "      <td>clothes</td>\n",
       "      <td>0.513804</td>\n",
       "      <td>0.587942</td>\n",
       "    </tr>\n",
       "    <tr>\n",
       "      <th>5</th>\n",
       "      <td>food</td>\n",
       "      <td>0.489444</td>\n",
       "      <td>0.563960</td>\n",
       "    </tr>\n",
       "    <tr>\n",
       "      <th>6</th>\n",
       "      <td>alcohol</td>\n",
       "      <td>0.386386</td>\n",
       "      <td>0.407034</td>\n",
       "    </tr>\n",
       "    <tr>\n",
       "      <th>7</th>\n",
       "      <td>bodylooks</td>\n",
       "      <td>0.458495</td>\n",
       "      <td>0.464155</td>\n",
       "    </tr>\n",
       "  </tbody>\n",
       "</table>\n",
       "</div>"
      ],
      "text/plain": [
       "        attribute  female_names  male_names\n",
       "0           color      0.537703    0.548279\n",
       "1    softAttitude      0.485988    0.512739\n",
       "2  strongAttitude      0.349349    0.495873\n",
       "3            cars      0.452626    0.505229\n",
       "4         clothes      0.513804    0.587942\n",
       "5            food      0.489444    0.563960\n",
       "6         alcohol      0.386386    0.407034\n",
       "7       bodylooks      0.458495    0.464155"
      ]
     },
     "execution_count": 20,
     "metadata": {},
     "output_type": "execute_result"
    }
   ],
   "source": [
    "avg_sim"
   ]
  },
  {
   "cell_type": "code",
   "execution_count": null,
   "metadata": {
    "collapsed": true
   },
   "outputs": [],
   "source": []
  },
  {
   "cell_type": "markdown",
   "metadata": {},
   "source": [
    "# FastText"
   ]
  },
  {
   "cell_type": "code",
   "execution_count": 21,
   "metadata": {
    "collapsed": true
   },
   "outputs": [],
   "source": [
    "model = FastText(doc, size=100, window=20, min_count=5, workers=4,sg=1)"
   ]
  },
  {
   "cell_type": "code",
   "execution_count": 22,
   "metadata": {},
   "outputs": [
    {
     "name": "stdout",
     "output_type": "stream",
     "text": [
      "female_names vs male_names , softAttitude vs strongAttitude, d = 1.0143738472471102\n"
     ]
    },
    {
     "name": "stderr",
     "output_type": "stream",
     "text": [
      "/Users/shefalibansal/anaconda3/lib/python3.6/site-packages/ipykernel_launcher.py:15: DeprecationWarning: Call to deprecated `similarity` (Method will be removed in 4.0.0, use self.wv.similarity() instead).\n",
      "  from ipykernel import kernelapp as app\n",
      "/Users/shefalibansal/anaconda3/lib/python3.6/site-packages/ipykernel_launcher.py:28: DeprecationWarning: Call to deprecated `similarity` (Method will be removed in 4.0.0, use self.wv.similarity() instead).\n",
      "/Users/shefalibansal/anaconda3/lib/python3.6/site-packages/ipykernel_launcher.py:46: DeprecationWarning: Call to deprecated `similarity` (Method will be removed in 4.0.0, use self.wv.similarity() instead).\n",
      "/Users/shefalibansal/anaconda3/lib/python3.6/site-packages/ipykernel_launcher.py:59: DeprecationWarning: Call to deprecated `similarity` (Method will be removed in 4.0.0, use self.wv.similarity() instead).\n"
     ]
    }
   ],
   "source": [
    "\n",
    "weat_test('female_names','male_names', female_names, 'softAttitude' ,'strongAttitude', softAttitude, male_names, strongAttitude)"
   ]
  },
  {
   "cell_type": "code",
   "execution_count": 23,
   "metadata": {
    "collapsed": true
   },
   "outputs": [],
   "source": [
    "att=['color','softAttitude','strongAttitude','cars','clothes','food','alcohol','bodylooks']\n",
    "fem_score=[]\n",
    "male_score=[]"
   ]
  },
  {
   "cell_type": "code",
   "execution_count": 24,
   "metadata": {
    "collapsed": true
   },
   "outputs": [],
   "source": [
    "att1=[color,softAttitude,strongAttitude,cars, clothes,food,alcohol,bodylooks]"
   ]
  },
  {
   "cell_type": "code",
   "execution_count": 25,
   "metadata": {},
   "outputs": [
    {
     "name": "stderr",
     "output_type": "stream",
     "text": [
      "/Users/shefalibansal/anaconda3/lib/python3.6/site-packages/ipykernel_launcher.py:11: DeprecationWarning: Call to deprecated `similarity` (Method will be removed in 4.0.0, use self.wv.similarity() instead).\n",
      "  # This is added back by InteractiveShellApp.init_path()\n"
     ]
    }
   ],
   "source": [
    "for lis in att1:\n",
    "    \n",
    "    fem_score.append(avg_similarity(female_names,lis))\n",
    "    male_score.append(avg_similarity(male_names,lis))"
   ]
  },
  {
   "cell_type": "code",
   "execution_count": 26,
   "metadata": {
    "collapsed": true
   },
   "outputs": [],
   "source": [
    "avg_sim=pd.DataFrame({'attribute':att,'female_names':fem_score,'male_names':male_score})"
   ]
  },
  {
   "cell_type": "code",
   "execution_count": 27,
   "metadata": {},
   "outputs": [
    {
     "data": {
      "text/html": [
       "<div>\n",
       "<style>\n",
       "    .dataframe thead tr:only-child th {\n",
       "        text-align: right;\n",
       "    }\n",
       "\n",
       "    .dataframe thead th {\n",
       "        text-align: left;\n",
       "    }\n",
       "\n",
       "    .dataframe tbody tr th {\n",
       "        vertical-align: top;\n",
       "    }\n",
       "</style>\n",
       "<table border=\"1\" class=\"dataframe\">\n",
       "  <thead>\n",
       "    <tr style=\"text-align: right;\">\n",
       "      <th></th>\n",
       "      <th>attribute</th>\n",
       "      <th>female_names</th>\n",
       "      <th>male_names</th>\n",
       "    </tr>\n",
       "  </thead>\n",
       "  <tbody>\n",
       "    <tr>\n",
       "      <th>0</th>\n",
       "      <td>color</td>\n",
       "      <td>0.491935</td>\n",
       "      <td>0.432924</td>\n",
       "    </tr>\n",
       "    <tr>\n",
       "      <th>1</th>\n",
       "      <td>softAttitude</td>\n",
       "      <td>0.452269</td>\n",
       "      <td>0.393242</td>\n",
       "    </tr>\n",
       "    <tr>\n",
       "      <th>2</th>\n",
       "      <td>strongAttitude</td>\n",
       "      <td>0.397305</td>\n",
       "      <td>0.418502</td>\n",
       "    </tr>\n",
       "    <tr>\n",
       "      <th>3</th>\n",
       "      <td>cars</td>\n",
       "      <td>0.423416</td>\n",
       "      <td>0.401536</td>\n",
       "    </tr>\n",
       "    <tr>\n",
       "      <th>4</th>\n",
       "      <td>clothes</td>\n",
       "      <td>0.486889</td>\n",
       "      <td>0.479216</td>\n",
       "    </tr>\n",
       "    <tr>\n",
       "      <th>5</th>\n",
       "      <td>food</td>\n",
       "      <td>0.444051</td>\n",
       "      <td>0.406869</td>\n",
       "    </tr>\n",
       "    <tr>\n",
       "      <th>6</th>\n",
       "      <td>alcohol</td>\n",
       "      <td>0.380756</td>\n",
       "      <td>0.366962</td>\n",
       "    </tr>\n",
       "    <tr>\n",
       "      <th>7</th>\n",
       "      <td>bodylooks</td>\n",
       "      <td>0.400594</td>\n",
       "      <td>0.382832</td>\n",
       "    </tr>\n",
       "  </tbody>\n",
       "</table>\n",
       "</div>"
      ],
      "text/plain": [
       "        attribute  female_names  male_names\n",
       "0           color      0.491935    0.432924\n",
       "1    softAttitude      0.452269    0.393242\n",
       "2  strongAttitude      0.397305    0.418502\n",
       "3            cars      0.423416    0.401536\n",
       "4         clothes      0.486889    0.479216\n",
       "5            food      0.444051    0.406869\n",
       "6         alcohol      0.380756    0.366962\n",
       "7       bodylooks      0.400594    0.382832"
      ]
     },
     "execution_count": 27,
     "metadata": {},
     "output_type": "execute_result"
    }
   ],
   "source": [
    "avg_sim"
   ]
  },
  {
   "cell_type": "code",
   "execution_count": null,
   "metadata": {
    "collapsed": true
   },
   "outputs": [],
   "source": []
  },
  {
   "cell_type": "markdown",
   "metadata": {},
   "source": [
    "# support and confidence"
   ]
  },
  {
   "cell_type": "code",
   "execution_count": null,
   "metadata": {},
   "outputs": [],
   "source": []
  },
  {
   "cell_type": "code",
   "execution_count": 28,
   "metadata": {},
   "outputs": [
    {
     "data": {
      "text/plain": [
       "198"
      ]
     },
     "execution_count": 28,
     "metadata": {},
     "output_type": "execute_result"
    }
   ],
   "source": [
    "mctr=0\n",
    "for d in doc:\n",
    "    flag=0\n",
    "    for word in male_names:\n",
    "        if word in d:\n",
    "            flag=1\n",
    "    \n",
    "    if flag==1:\n",
    "        mctr=mctr+1\n",
    "mctr"
   ]
  },
  {
   "cell_type": "code",
   "execution_count": 29,
   "metadata": {},
   "outputs": [
    {
     "data": {
      "text/plain": [
       "268"
      ]
     },
     "execution_count": 29,
     "metadata": {},
     "output_type": "execute_result"
    }
   ],
   "source": [
    "fctr=0\n",
    "for d in doc:\n",
    "    flag=0\n",
    "    for word in female_names:\n",
    "        if word in d:\n",
    "            flag=1\n",
    "    \n",
    "    if flag==1:\n",
    "        fctr=fctr+1\n",
    "fctr"
   ]
  },
  {
   "cell_type": "code",
   "execution_count": 30,
   "metadata": {},
   "outputs": [],
   "source": [
    "total=len(doc)"
   ]
  },
  {
   "cell_type": "code",
   "execution_count": 31,
   "metadata": {},
   "outputs": [
    {
     "data": {
      "text/plain": [
       "38"
      ]
     },
     "execution_count": 31,
     "metadata": {},
     "output_type": "execute_result"
    }
   ],
   "source": [
    "ctr=0\n",
    "for d in doc:\n",
    "    flag=0\n",
    "    for word in female_names:\n",
    "        for w2 in alcohol:\n",
    "            if word in d:\n",
    "                if w2 in d:\n",
    "                    flag=1\n",
    "        \n",
    "    if flag==1:\n",
    "        ctr=ctr+1\n",
    "        \n",
    "ctr"
   ]
  },
  {
   "cell_type": "code",
   "execution_count": 32,
   "metadata": {
    "collapsed": true
   },
   "outputs": [],
   "source": [
    "att=['color','softAttitude','strongAttitude','cars','clothes','food','alcohol','bodylooks']\n",
    "fem_support=[]\n",
    "male_support=[]\n",
    "fem_confidence=[]\n",
    "male_confidence=[]"
   ]
  },
  {
   "cell_type": "code",
   "execution_count": 33,
   "metadata": {
    "collapsed": true
   },
   "outputs": [],
   "source": [
    "att1=[color,softAttitude,strongAttitude,cars, clothes,food,alcohol,bodylooks]"
   ]
  },
  {
   "cell_type": "code",
   "execution_count": 34,
   "metadata": {},
   "outputs": [],
   "source": [
    "for i in att1:\n",
    "    ctr=0\n",
    "    for d in doc:\n",
    "        flag=0\n",
    "        for word in female_names:\n",
    "            for w2 in i:\n",
    "                if word in d:\n",
    "                    if w2 in d:\n",
    "                        flag=1\n",
    "        \n",
    "        if flag==1:\n",
    "            ctr=ctr+1\n",
    "    fem_support.append((ctr/total)*100)"
   ]
  },
  {
   "cell_type": "code",
   "execution_count": 35,
   "metadata": {},
   "outputs": [],
   "source": [
    "for i in att1:\n",
    "    ctr=0\n",
    "    for d in doc:\n",
    "        flag=0\n",
    "        for word in male_names:\n",
    "            for w2 in i:\n",
    "                if word in d:\n",
    "                    if w2 in d:\n",
    "                        flag=1\n",
    "        \n",
    "        if flag==1:\n",
    "            ctr=ctr+1\n",
    "    male_support.append((ctr/total)*100)"
   ]
  },
  {
   "cell_type": "code",
   "execution_count": 36,
   "metadata": {
    "collapsed": true
   },
   "outputs": [],
   "source": [
    "for i in att1:\n",
    "    ctr=0\n",
    "    for d in doc:\n",
    "        flag=0\n",
    "        for word in female_names:\n",
    "            for w2 in i:\n",
    "                if word in d:\n",
    "                    if w2 in d:\n",
    "                        flag=1\n",
    "        \n",
    "        if flag==1:\n",
    "            ctr=ctr+1\n",
    "    fem_confidence.append((ctr/fctr)*100)"
   ]
  },
  {
   "cell_type": "code",
   "execution_count": 37,
   "metadata": {
    "collapsed": true
   },
   "outputs": [],
   "source": [
    "for i in att1:\n",
    "    ctr=0\n",
    "    for d in doc:\n",
    "        flag=0\n",
    "        for word in male_names:\n",
    "            for w2 in i:\n",
    "                if word in d:\n",
    "                    if w2 in d:\n",
    "                        flag=1\n",
    "        \n",
    "        if flag==1:\n",
    "            ctr=ctr+1\n",
    "    male_confidence.append((ctr/mctr)*100)"
   ]
  },
  {
   "cell_type": "code",
   "execution_count": null,
   "metadata": {
    "collapsed": true
   },
   "outputs": [],
   "source": []
  },
  {
   "cell_type": "code",
   "execution_count": 38,
   "metadata": {},
   "outputs": [],
   "source": [
    "support=pd.DataFrame({'attribute':att,'female_names':fem_support,'male_names':male_support})"
   ]
  },
  {
   "cell_type": "code",
   "execution_count": 39,
   "metadata": {},
   "outputs": [
    {
     "data": {
      "text/html": [
       "<div>\n",
       "<style>\n",
       "    .dataframe thead tr:only-child th {\n",
       "        text-align: right;\n",
       "    }\n",
       "\n",
       "    .dataframe thead th {\n",
       "        text-align: left;\n",
       "    }\n",
       "\n",
       "    .dataframe tbody tr th {\n",
       "        vertical-align: top;\n",
       "    }\n",
       "</style>\n",
       "<table border=\"1\" class=\"dataframe\">\n",
       "  <thead>\n",
       "    <tr style=\"text-align: right;\">\n",
       "      <th></th>\n",
       "      <th>attribute</th>\n",
       "      <th>female_names</th>\n",
       "      <th>male_names</th>\n",
       "    </tr>\n",
       "  </thead>\n",
       "  <tbody>\n",
       "    <tr>\n",
       "      <th>0</th>\n",
       "      <td>color</td>\n",
       "      <td>2.576809</td>\n",
       "      <td>0.792864</td>\n",
       "    </tr>\n",
       "    <tr>\n",
       "      <th>1</th>\n",
       "      <td>softAttitude</td>\n",
       "      <td>1.684836</td>\n",
       "      <td>1.156260</td>\n",
       "    </tr>\n",
       "    <tr>\n",
       "      <th>2</th>\n",
       "      <td>strongAttitude</td>\n",
       "      <td>0.297324</td>\n",
       "      <td>0.495540</td>\n",
       "    </tr>\n",
       "    <tr>\n",
       "      <th>3</th>\n",
       "      <td>cars</td>\n",
       "      <td>0.759828</td>\n",
       "      <td>0.660720</td>\n",
       "    </tr>\n",
       "    <tr>\n",
       "      <th>4</th>\n",
       "      <td>clothes</td>\n",
       "      <td>0.759828</td>\n",
       "      <td>0.495540</td>\n",
       "    </tr>\n",
       "    <tr>\n",
       "      <th>5</th>\n",
       "      <td>food</td>\n",
       "      <td>0.330360</td>\n",
       "      <td>0.363396</td>\n",
       "    </tr>\n",
       "    <tr>\n",
       "      <th>6</th>\n",
       "      <td>alcohol</td>\n",
       "      <td>1.255368</td>\n",
       "      <td>0.958044</td>\n",
       "    </tr>\n",
       "    <tr>\n",
       "      <th>7</th>\n",
       "      <td>bodylooks</td>\n",
       "      <td>1.255368</td>\n",
       "      <td>0.495540</td>\n",
       "    </tr>\n",
       "  </tbody>\n",
       "</table>\n",
       "</div>"
      ],
      "text/plain": [
       "        attribute  female_names  male_names\n",
       "0           color      2.576809    0.792864\n",
       "1    softAttitude      1.684836    1.156260\n",
       "2  strongAttitude      0.297324    0.495540\n",
       "3            cars      0.759828    0.660720\n",
       "4         clothes      0.759828    0.495540\n",
       "5            food      0.330360    0.363396\n",
       "6         alcohol      1.255368    0.958044\n",
       "7       bodylooks      1.255368    0.495540"
      ]
     },
     "execution_count": 39,
     "metadata": {},
     "output_type": "execute_result"
    }
   ],
   "source": [
    "support"
   ]
  },
  {
   "cell_type": "code",
   "execution_count": null,
   "metadata": {
    "collapsed": true
   },
   "outputs": [],
   "source": []
  },
  {
   "cell_type": "code",
   "execution_count": null,
   "metadata": {
    "collapsed": true
   },
   "outputs": [],
   "source": []
  },
  {
   "cell_type": "code",
   "execution_count": 40,
   "metadata": {
    "collapsed": true
   },
   "outputs": [],
   "source": [
    "confidence=pd.DataFrame({'attribute':att,'female_names':fem_confidence,'male_names':male_confidence})"
   ]
  },
  {
   "cell_type": "code",
   "execution_count": 41,
   "metadata": {},
   "outputs": [
    {
     "data": {
      "text/html": [
       "<div>\n",
       "<style>\n",
       "    .dataframe thead tr:only-child th {\n",
       "        text-align: right;\n",
       "    }\n",
       "\n",
       "    .dataframe thead th {\n",
       "        text-align: left;\n",
       "    }\n",
       "\n",
       "    .dataframe tbody tr th {\n",
       "        vertical-align: top;\n",
       "    }\n",
       "</style>\n",
       "<table border=\"1\" class=\"dataframe\">\n",
       "  <thead>\n",
       "    <tr style=\"text-align: right;\">\n",
       "      <th></th>\n",
       "      <th>attribute</th>\n",
       "      <th>female_names</th>\n",
       "      <th>male_names</th>\n",
       "    </tr>\n",
       "  </thead>\n",
       "  <tbody>\n",
       "    <tr>\n",
       "      <th>0</th>\n",
       "      <td>color</td>\n",
       "      <td>29.104478</td>\n",
       "      <td>12.121212</td>\n",
       "    </tr>\n",
       "    <tr>\n",
       "      <th>1</th>\n",
       "      <td>softAttitude</td>\n",
       "      <td>19.029851</td>\n",
       "      <td>17.676768</td>\n",
       "    </tr>\n",
       "    <tr>\n",
       "      <th>2</th>\n",
       "      <td>strongAttitude</td>\n",
       "      <td>3.358209</td>\n",
       "      <td>7.575758</td>\n",
       "    </tr>\n",
       "    <tr>\n",
       "      <th>3</th>\n",
       "      <td>cars</td>\n",
       "      <td>8.582090</td>\n",
       "      <td>10.101010</td>\n",
       "    </tr>\n",
       "    <tr>\n",
       "      <th>4</th>\n",
       "      <td>clothes</td>\n",
       "      <td>8.582090</td>\n",
       "      <td>7.575758</td>\n",
       "    </tr>\n",
       "    <tr>\n",
       "      <th>5</th>\n",
       "      <td>food</td>\n",
       "      <td>3.731343</td>\n",
       "      <td>5.555556</td>\n",
       "    </tr>\n",
       "    <tr>\n",
       "      <th>6</th>\n",
       "      <td>alcohol</td>\n",
       "      <td>14.179104</td>\n",
       "      <td>14.646465</td>\n",
       "    </tr>\n",
       "    <tr>\n",
       "      <th>7</th>\n",
       "      <td>bodylooks</td>\n",
       "      <td>14.179104</td>\n",
       "      <td>7.575758</td>\n",
       "    </tr>\n",
       "  </tbody>\n",
       "</table>\n",
       "</div>"
      ],
      "text/plain": [
       "        attribute  female_names  male_names\n",
       "0           color     29.104478   12.121212\n",
       "1    softAttitude     19.029851   17.676768\n",
       "2  strongAttitude      3.358209    7.575758\n",
       "3            cars      8.582090   10.101010\n",
       "4         clothes      8.582090    7.575758\n",
       "5            food      3.731343    5.555556\n",
       "6         alcohol     14.179104   14.646465\n",
       "7       bodylooks     14.179104    7.575758"
      ]
     },
     "execution_count": 41,
     "metadata": {},
     "output_type": "execute_result"
    }
   ],
   "source": [
    "confidence"
   ]
  },
  {
   "cell_type": "code",
   "execution_count": null,
   "metadata": {
    "collapsed": true
   },
   "outputs": [],
   "source": []
  },
  {
   "cell_type": "markdown",
   "metadata": {},
   "source": [
    "# support confidence on sentences"
   ]
  },
  {
   "cell_type": "code",
   "execution_count": 42,
   "metadata": {},
   "outputs": [
    {
     "data": {
      "text/plain": [
       "(360, 460)"
      ]
     },
     "execution_count": 42,
     "metadata": {},
     "output_type": "execute_result"
    }
   ],
   "source": [
    "mctr=0\n",
    "for d in doc1:\n",
    "    flag=0\n",
    "    for word in male_names:\n",
    "        if word in d:\n",
    "            flag=1\n",
    "    \n",
    "    if flag==1:\n",
    "        mctr=mctr+1\n",
    "fctr=0\n",
    "for d in doc1:\n",
    "    flag=0\n",
    "    for word in female_names:\n",
    "        if word in d:\n",
    "            flag=1\n",
    "    \n",
    "    if flag==1:\n",
    "        fctr=fctr+1\n",
    "mctr,fctr"
   ]
  },
  {
   "cell_type": "code",
   "execution_count": 43,
   "metadata": {
    "collapsed": true
   },
   "outputs": [],
   "source": [
    "total=len(doc1)"
   ]
  },
  {
   "cell_type": "code",
   "execution_count": 44,
   "metadata": {},
   "outputs": [
    {
     "data": {
      "text/plain": [
       "3"
      ]
     },
     "execution_count": 44,
     "metadata": {},
     "output_type": "execute_result"
    }
   ],
   "source": [
    "ctr=0\n",
    "for d in doc1:\n",
    "    flag=0\n",
    "    for word in female_names:\n",
    "        for w2 in alcohol:\n",
    "            if word in d:\n",
    "                if w2 in d:\n",
    "                    flag=1\n",
    "        \n",
    "    if flag==1:\n",
    "        ctr=ctr+1\n",
    "        \n",
    "ctr"
   ]
  },
  {
   "cell_type": "code",
   "execution_count": 45,
   "metadata": {
    "collapsed": true
   },
   "outputs": [],
   "source": [
    "att=['color','softAttitude','strongAttitude','cars','clothes','food','alcohol','bodylooks']\n",
    "fem_support=[]\n",
    "male_support=[]\n",
    "fem_confidence=[]\n",
    "male_confidence=[]"
   ]
  },
  {
   "cell_type": "code",
   "execution_count": 46,
   "metadata": {
    "collapsed": true
   },
   "outputs": [],
   "source": [
    "att1=[color,softAttitude,strongAttitude,cars, clothes,food,alcohol,bodylooks]"
   ]
  },
  {
   "cell_type": "code",
   "execution_count": 47,
   "metadata": {
    "collapsed": true
   },
   "outputs": [],
   "source": [
    "for i in att1:\n",
    "    ctr=0\n",
    "    for d in doc1:\n",
    "        flag=0\n",
    "        for word in female_names:\n",
    "            for w2 in i:\n",
    "                if word in d:\n",
    "                    if w2 in d:\n",
    "                        flag=1\n",
    "        \n",
    "        if flag==1:\n",
    "            ctr=ctr+1\n",
    "    fem_support.append((ctr/total)*100)"
   ]
  },
  {
   "cell_type": "code",
   "execution_count": 48,
   "metadata": {
    "collapsed": true
   },
   "outputs": [],
   "source": [
    "for i in att1:\n",
    "    ctr=0\n",
    "    for d in doc1:\n",
    "        flag=0\n",
    "        for word in male_names:\n",
    "            for w2 in i:\n",
    "                if word in d:\n",
    "                    if w2 in d:\n",
    "                        flag=1\n",
    "        \n",
    "        if flag==1:\n",
    "            ctr=ctr+1\n",
    "    male_support.append((ctr/total)*100)"
   ]
  },
  {
   "cell_type": "code",
   "execution_count": 49,
   "metadata": {
    "collapsed": true
   },
   "outputs": [],
   "source": [
    "for i in att1:\n",
    "    ctr=0\n",
    "    for d in doc1:\n",
    "        flag=0\n",
    "        for word in female_names:\n",
    "            for w2 in i:\n",
    "                if word in d:\n",
    "                    if w2 in d:\n",
    "                        flag=1\n",
    "        \n",
    "        if flag==1:\n",
    "            ctr=ctr+1\n",
    "    fem_confidence.append((ctr/fctr)*100)"
   ]
  },
  {
   "cell_type": "code",
   "execution_count": 50,
   "metadata": {
    "collapsed": true
   },
   "outputs": [],
   "source": [
    "for i in att1:\n",
    "    ctr=0\n",
    "    for d in doc1:\n",
    "        flag=0\n",
    "        for word in male_names:\n",
    "            for w2 in i:\n",
    "                if word in d:\n",
    "                    if w2 in d:\n",
    "                        flag=1\n",
    "        \n",
    "        if flag==1:\n",
    "            ctr=ctr+1\n",
    "    male_confidence.append((ctr/mctr)*100)"
   ]
  },
  {
   "cell_type": "code",
   "execution_count": 51,
   "metadata": {
    "collapsed": true
   },
   "outputs": [],
   "source": [
    "support1=pd.DataFrame({'attribute':att,'female_names':fem_support,'male_names':male_support})"
   ]
  },
  {
   "cell_type": "code",
   "execution_count": 52,
   "metadata": {},
   "outputs": [
    {
     "data": {
      "text/html": [
       "<div>\n",
       "<style>\n",
       "    .dataframe thead tr:only-child th {\n",
       "        text-align: right;\n",
       "    }\n",
       "\n",
       "    .dataframe thead th {\n",
       "        text-align: left;\n",
       "    }\n",
       "\n",
       "    .dataframe tbody tr th {\n",
       "        vertical-align: top;\n",
       "    }\n",
       "</style>\n",
       "<table border=\"1\" class=\"dataframe\">\n",
       "  <thead>\n",
       "    <tr style=\"text-align: right;\">\n",
       "      <th></th>\n",
       "      <th>attribute</th>\n",
       "      <th>female_names</th>\n",
       "      <th>male_names</th>\n",
       "    </tr>\n",
       "  </thead>\n",
       "  <tbody>\n",
       "    <tr>\n",
       "      <th>0</th>\n",
       "      <td>color</td>\n",
       "      <td>0.081379</td>\n",
       "      <td>0.001356</td>\n",
       "    </tr>\n",
       "    <tr>\n",
       "      <th>1</th>\n",
       "      <td>softAttitude</td>\n",
       "      <td>0.021701</td>\n",
       "      <td>0.002713</td>\n",
       "    </tr>\n",
       "    <tr>\n",
       "      <th>2</th>\n",
       "      <td>strongAttitude</td>\n",
       "      <td>0.001356</td>\n",
       "      <td>0.009494</td>\n",
       "    </tr>\n",
       "    <tr>\n",
       "      <th>3</th>\n",
       "      <td>cars</td>\n",
       "      <td>0.000000</td>\n",
       "      <td>0.000000</td>\n",
       "    </tr>\n",
       "    <tr>\n",
       "      <th>4</th>\n",
       "      <td>clothes</td>\n",
       "      <td>0.004069</td>\n",
       "      <td>0.002713</td>\n",
       "    </tr>\n",
       "    <tr>\n",
       "      <th>5</th>\n",
       "      <td>food</td>\n",
       "      <td>0.002713</td>\n",
       "      <td>0.000000</td>\n",
       "    </tr>\n",
       "    <tr>\n",
       "      <th>6</th>\n",
       "      <td>alcohol</td>\n",
       "      <td>0.004069</td>\n",
       "      <td>0.001356</td>\n",
       "    </tr>\n",
       "    <tr>\n",
       "      <th>7</th>\n",
       "      <td>bodylooks</td>\n",
       "      <td>0.001356</td>\n",
       "      <td>0.000000</td>\n",
       "    </tr>\n",
       "  </tbody>\n",
       "</table>\n",
       "</div>"
      ],
      "text/plain": [
       "        attribute  female_names  male_names\n",
       "0           color      0.081379    0.001356\n",
       "1    softAttitude      0.021701    0.002713\n",
       "2  strongAttitude      0.001356    0.009494\n",
       "3            cars      0.000000    0.000000\n",
       "4         clothes      0.004069    0.002713\n",
       "5            food      0.002713    0.000000\n",
       "6         alcohol      0.004069    0.001356\n",
       "7       bodylooks      0.001356    0.000000"
      ]
     },
     "execution_count": 52,
     "metadata": {},
     "output_type": "execute_result"
    }
   ],
   "source": [
    "support1"
   ]
  },
  {
   "cell_type": "code",
   "execution_count": 53,
   "metadata": {
    "collapsed": true
   },
   "outputs": [],
   "source": [
    "confidence1=pd.DataFrame({'attribute':att,'female_names':fem_confidence,'male_names':male_confidence})"
   ]
  },
  {
   "cell_type": "code",
   "execution_count": 54,
   "metadata": {},
   "outputs": [
    {
     "data": {
      "text/html": [
       "<div>\n",
       "<style>\n",
       "    .dataframe thead tr:only-child th {\n",
       "        text-align: right;\n",
       "    }\n",
       "\n",
       "    .dataframe thead th {\n",
       "        text-align: left;\n",
       "    }\n",
       "\n",
       "    .dataframe tbody tr th {\n",
       "        vertical-align: top;\n",
       "    }\n",
       "</style>\n",
       "<table border=\"1\" class=\"dataframe\">\n",
       "  <thead>\n",
       "    <tr style=\"text-align: right;\">\n",
       "      <th></th>\n",
       "      <th>attribute</th>\n",
       "      <th>female_names</th>\n",
       "      <th>male_names</th>\n",
       "    </tr>\n",
       "  </thead>\n",
       "  <tbody>\n",
       "    <tr>\n",
       "      <th>0</th>\n",
       "      <td>color</td>\n",
       "      <td>13.043478</td>\n",
       "      <td>0.277778</td>\n",
       "    </tr>\n",
       "    <tr>\n",
       "      <th>1</th>\n",
       "      <td>softAttitude</td>\n",
       "      <td>3.478261</td>\n",
       "      <td>0.555556</td>\n",
       "    </tr>\n",
       "    <tr>\n",
       "      <th>2</th>\n",
       "      <td>strongAttitude</td>\n",
       "      <td>0.217391</td>\n",
       "      <td>1.944444</td>\n",
       "    </tr>\n",
       "    <tr>\n",
       "      <th>3</th>\n",
       "      <td>cars</td>\n",
       "      <td>0.000000</td>\n",
       "      <td>0.000000</td>\n",
       "    </tr>\n",
       "    <tr>\n",
       "      <th>4</th>\n",
       "      <td>clothes</td>\n",
       "      <td>0.652174</td>\n",
       "      <td>0.555556</td>\n",
       "    </tr>\n",
       "    <tr>\n",
       "      <th>5</th>\n",
       "      <td>food</td>\n",
       "      <td>0.434783</td>\n",
       "      <td>0.000000</td>\n",
       "    </tr>\n",
       "    <tr>\n",
       "      <th>6</th>\n",
       "      <td>alcohol</td>\n",
       "      <td>0.652174</td>\n",
       "      <td>0.277778</td>\n",
       "    </tr>\n",
       "    <tr>\n",
       "      <th>7</th>\n",
       "      <td>bodylooks</td>\n",
       "      <td>0.217391</td>\n",
       "      <td>0.000000</td>\n",
       "    </tr>\n",
       "  </tbody>\n",
       "</table>\n",
       "</div>"
      ],
      "text/plain": [
       "        attribute  female_names  male_names\n",
       "0           color     13.043478    0.277778\n",
       "1    softAttitude      3.478261    0.555556\n",
       "2  strongAttitude      0.217391    1.944444\n",
       "3            cars      0.000000    0.000000\n",
       "4         clothes      0.652174    0.555556\n",
       "5            food      0.434783    0.000000\n",
       "6         alcohol      0.652174    0.277778\n",
       "7       bodylooks      0.217391    0.000000"
      ]
     },
     "execution_count": 54,
     "metadata": {},
     "output_type": "execute_result"
    }
   ],
   "source": [
    "confidence1"
   ]
  },
  {
   "cell_type": "code",
   "execution_count": null,
   "metadata": {
    "collapsed": true
   },
   "outputs": [],
   "source": []
  },
  {
   "cell_type": "markdown",
   "metadata": {},
   "source": [
    "# support confidence paragraph wise"
   ]
  },
  {
   "cell_type": "code",
   "execution_count": null,
   "metadata": {
    "collapsed": true
   },
   "outputs": [],
   "source": []
  },
  {
   "cell_type": "code",
   "execution_count": 55,
   "metadata": {},
   "outputs": [
    {
     "data": {
      "text/plain": [
       "['Sun, main hoon thoda sanki\\nKarun mann ki\\nBaby gaana lagade thoda funky\\nNahi mann ki\\nNahi dhan ki\\nYe baat hai tere tann ki',\n",
       " 'Paagal ho jaaun jab tu ho rubaru\\nNa lamba ocha gora chitta\\nPhir bhi dil mein tu\\nIshq ne tere kiya hai bekaboo\\nJaisa hai waisa hi pasand mujhko tu jaanu',\n",
       " \"I just wanna feel your body\\n(Saanu kare ishaare)\\nTouch my body\\nDon't be shy my honey\\n(Saanu kare ishaare)\",\n",
       " \"I wanna feel your body\\n(Saanu kare ishaare)\\nTouch my body\\nDon't be shy my honey\\n(Saanu kare ishaare)\\nTouch my body\\nFly my honey\\nDon't be shy my honey\\nBefikar fly my honey\\nDon't be shy my honey\",\n",
       " 'Sun, main hoon thoda sanki\\nKarun mann ki\\nBaby gaana lagade thoda funky\\nNahi mann ki\\nNahi dhan ki\\nYe baat hai tere tann ki...',\n",
       " \"Kuch bhi bole bina\\nAankhon se tu baat kare\\nYe shaitani jaan bujhke mere saath kare\\nTujhko dekhe bina dil mera ab kahin lage nahi\\nTere husn pe aankhein sek sek kar thake nahi\\nUpar se raat hoti ja rahi hai naughty naughty naughty...\\nDon't be shy my honey...\",\n",
       " \"I wanna feel your body\\n(Saanu kare ishaare)\\nTouch my body\\nDon't be shy my honey\\n(Saanu kare ishaare)\\nTouch my body\",\n",
       " \"I wanna feel your body\\n(Saanu kare ishaare)\\nTouch my body\\nDon't be shy my honey\\n(Saanu kare ishaare)\\nTouch my body\",\n",
       " \"Fly my honey\\nDon't be shy my honey\\nBefikar fly my honey\\nDon't be shy my honey\"]"
      ]
     },
     "execution_count": 55,
     "metadata": {},
     "output_type": "execute_result"
    }
   ],
   "source": [
    "data['songLyrics'][0].split('\\n\\n')"
   ]
  },
  {
   "cell_type": "code",
   "execution_count": 56,
   "metadata": {
    "collapsed": true
   },
   "outputs": [],
   "source": [
    "doc2=[]\n",
    "for i in range(data.shape[0]):\n",
    "    doc2.append(re.sub('[^a-zA-z\\s]','',data['songLyrics'][i].lower()).split(\"\\n\\n\"))\n",
    "doc22=[]\n",
    "for song in doc2:\n",
    "    d=[]\n",
    "    for line in song:\n",
    "        if line not in d:\n",
    "            d.append(line)\n",
    "    doc22.append(d)"
   ]
  },
  {
   "cell_type": "code",
   "execution_count": 57,
   "metadata": {},
   "outputs": [],
   "source": [
    "doc222=[]\n",
    "for i in doc22:\n",
    "    for j in i:\n",
    "        doc222.append(j.split('\\n'))"
   ]
  },
  {
   "cell_type": "code",
   "execution_count": 58,
   "metadata": {},
   "outputs": [
    {
     "data": {
      "text/plain": [
       "['sun main hoon thoda sanki',\n",
       " 'karun mann ki',\n",
       " 'baby gaana lagade thoda funky',\n",
       " 'nahi mann ki',\n",
       " 'nahi dhan ki',\n",
       " 'ye baat hai tere tann ki']"
      ]
     },
     "execution_count": 58,
     "metadata": {},
     "output_type": "execute_result"
    }
   ],
   "source": [
    "doc222[0]"
   ]
  },
  {
   "cell_type": "code",
   "execution_count": 59,
   "metadata": {
    "collapsed": true
   },
   "outputs": [],
   "source": [
    "doc1=[]\n",
    "for i in range(len(doc222)):\n",
    "    doc1.append(nltk.word_tokenize(\" \".join(doc222[i])))"
   ]
  },
  {
   "cell_type": "code",
   "execution_count": null,
   "metadata": {},
   "outputs": [],
   "source": []
  },
  {
   "cell_type": "code",
   "execution_count": 60,
   "metadata": {},
   "outputs": [
    {
     "data": {
      "text/plain": [
       "(224, 307)"
      ]
     },
     "execution_count": 60,
     "metadata": {},
     "output_type": "execute_result"
    }
   ],
   "source": [
    "mctr=0\n",
    "for d in doc1:\n",
    "    flag=0\n",
    "    for word in male_names:\n",
    "        if word in d:\n",
    "            flag=1\n",
    "    \n",
    "    if flag==1:\n",
    "        mctr=mctr+1\n",
    "fctr=0\n",
    "for d in doc1:\n",
    "    flag=0\n",
    "    for word in female_names:\n",
    "        if word in d:\n",
    "            flag=1\n",
    "    \n",
    "    if flag==1:\n",
    "        fctr=fctr+1\n",
    "mctr,fctr"
   ]
  },
  {
   "cell_type": "code",
   "execution_count": 61,
   "metadata": {
    "collapsed": true
   },
   "outputs": [],
   "source": [
    "total=len(doc1)"
   ]
  },
  {
   "cell_type": "code",
   "execution_count": 62,
   "metadata": {},
   "outputs": [
    {
     "data": {
      "text/plain": [
       "32"
      ]
     },
     "execution_count": 62,
     "metadata": {},
     "output_type": "execute_result"
    }
   ],
   "source": [
    "ctr=0\n",
    "for d in doc1:\n",
    "    flag=0\n",
    "    for word in female_names:\n",
    "        for w2 in alcohol:\n",
    "            if word in d:\n",
    "                if w2 in d:\n",
    "                    flag=1\n",
    "        \n",
    "    if flag==1:\n",
    "        ctr=ctr+1\n",
    "        \n",
    "ctr"
   ]
  },
  {
   "cell_type": "code",
   "execution_count": 63,
   "metadata": {
    "collapsed": true
   },
   "outputs": [],
   "source": [
    "att=['color','softAttitude','strongAttitude','cars','clothes','food','alcohol','bodylooks']\n",
    "fem_support=[]\n",
    "male_support=[]\n",
    "fem_confidence=[]\n",
    "male_confidence=[]\n"
   ]
  },
  {
   "cell_type": "code",
   "execution_count": 64,
   "metadata": {
    "collapsed": true
   },
   "outputs": [],
   "source": [
    "att1=[color,softAttitude,strongAttitude,cars, clothes,food,alcohol,bodylooks]"
   ]
  },
  {
   "cell_type": "code",
   "execution_count": 65,
   "metadata": {
    "collapsed": true
   },
   "outputs": [],
   "source": [
    "for i in att1:\n",
    "    ctr=0\n",
    "    for d in doc1:\n",
    "        flag=0\n",
    "        for word in female_names:\n",
    "            for w2 in i:\n",
    "                if word in d:\n",
    "                    if w2 in d:\n",
    "                        flag=1\n",
    "        \n",
    "        if flag==1:\n",
    "            ctr=ctr+1\n",
    "    fem_support.append((ctr/total)*100)"
   ]
  },
  {
   "cell_type": "code",
   "execution_count": 66,
   "metadata": {
    "collapsed": true
   },
   "outputs": [],
   "source": [
    "for i in att1:\n",
    "    ctr=0\n",
    "    for d in doc1:\n",
    "        flag=0\n",
    "        for word in male_names:\n",
    "            for w2 in i:\n",
    "                if word in d:\n",
    "                    if w2 in d:\n",
    "                        flag=1\n",
    "        \n",
    "        if flag==1:\n",
    "            ctr=ctr+1\n",
    "    male_support.append((ctr/total)*100)"
   ]
  },
  {
   "cell_type": "code",
   "execution_count": 67,
   "metadata": {
    "collapsed": true
   },
   "outputs": [],
   "source": [
    "for i in att1:\n",
    "    ctr=0\n",
    "    for d in doc1:\n",
    "        flag=0\n",
    "        for word in female_names:\n",
    "            for w2 in i:\n",
    "                if word in d:\n",
    "                    if w2 in d:\n",
    "                        flag=1\n",
    "        \n",
    "        if flag==1:\n",
    "            ctr=ctr+1\n",
    "    fem_confidence.append((ctr/fctr)*100)"
   ]
  },
  {
   "cell_type": "code",
   "execution_count": 68,
   "metadata": {
    "collapsed": true
   },
   "outputs": [],
   "source": [
    "for i in att1:\n",
    "    ctr=0\n",
    "    for d in doc1:\n",
    "        flag=0\n",
    "        for word in male_names:\n",
    "            for w2 in i:\n",
    "                if word in d:\n",
    "                    if w2 in d:\n",
    "                        flag=1\n",
    "        \n",
    "        if flag==1:\n",
    "            ctr=ctr+1\n",
    "    male_confidence.append((ctr/mctr)*100)"
   ]
  },
  {
   "cell_type": "code",
   "execution_count": 69,
   "metadata": {
    "collapsed": true
   },
   "outputs": [],
   "source": [
    "support1=pd.DataFrame({'attribute':att,'female_names':fem_support,'male_names':male_support})"
   ]
  },
  {
   "cell_type": "code",
   "execution_count": 70,
   "metadata": {},
   "outputs": [
    {
     "data": {
      "text/html": [
       "<div>\n",
       "<style>\n",
       "    .dataframe thead tr:only-child th {\n",
       "        text-align: right;\n",
       "    }\n",
       "\n",
       "    .dataframe thead th {\n",
       "        text-align: left;\n",
       "    }\n",
       "\n",
       "    .dataframe tbody tr th {\n",
       "        vertical-align: top;\n",
       "    }\n",
       "</style>\n",
       "<table border=\"1\" class=\"dataframe\">\n",
       "  <thead>\n",
       "    <tr style=\"text-align: right;\">\n",
       "      <th></th>\n",
       "      <th>attribute</th>\n",
       "      <th>female_names</th>\n",
       "      <th>male_names</th>\n",
       "    </tr>\n",
       "  </thead>\n",
       "  <tbody>\n",
       "    <tr>\n",
       "      <th>0</th>\n",
       "      <td>color</td>\n",
       "      <td>1.172791</td>\n",
       "      <td>0.344019</td>\n",
       "    </tr>\n",
       "    <tr>\n",
       "      <th>1</th>\n",
       "      <td>softAttitude</td>\n",
       "      <td>0.766224</td>\n",
       "      <td>0.469116</td>\n",
       "    </tr>\n",
       "    <tr>\n",
       "      <th>2</th>\n",
       "      <td>strongAttitude</td>\n",
       "      <td>0.109461</td>\n",
       "      <td>0.218921</td>\n",
       "    </tr>\n",
       "    <tr>\n",
       "      <th>3</th>\n",
       "      <td>cars</td>\n",
       "      <td>0.359656</td>\n",
       "      <td>0.281470</td>\n",
       "    </tr>\n",
       "    <tr>\n",
       "      <th>4</th>\n",
       "      <td>clothes</td>\n",
       "      <td>0.359656</td>\n",
       "      <td>0.218921</td>\n",
       "    </tr>\n",
       "    <tr>\n",
       "      <th>5</th>\n",
       "      <td>food</td>\n",
       "      <td>0.156372</td>\n",
       "      <td>0.093823</td>\n",
       "    </tr>\n",
       "    <tr>\n",
       "      <th>6</th>\n",
       "      <td>alcohol</td>\n",
       "      <td>0.500391</td>\n",
       "      <td>0.375293</td>\n",
       "    </tr>\n",
       "    <tr>\n",
       "      <th>7</th>\n",
       "      <td>bodylooks</td>\n",
       "      <td>0.531665</td>\n",
       "      <td>0.187647</td>\n",
       "    </tr>\n",
       "  </tbody>\n",
       "</table>\n",
       "</div>"
      ],
      "text/plain": [
       "        attribute  female_names  male_names\n",
       "0           color      1.172791    0.344019\n",
       "1    softAttitude      0.766224    0.469116\n",
       "2  strongAttitude      0.109461    0.218921\n",
       "3            cars      0.359656    0.281470\n",
       "4         clothes      0.359656    0.218921\n",
       "5            food      0.156372    0.093823\n",
       "6         alcohol      0.500391    0.375293\n",
       "7       bodylooks      0.531665    0.187647"
      ]
     },
     "execution_count": 70,
     "metadata": {},
     "output_type": "execute_result"
    }
   ],
   "source": [
    "support1"
   ]
  },
  {
   "cell_type": "code",
   "execution_count": 71,
   "metadata": {
    "collapsed": true
   },
   "outputs": [],
   "source": [
    "confidence1=pd.DataFrame({'attribute':att,'female_names':fem_confidence,'male_names':male_confidence})\n"
   ]
  },
  {
   "cell_type": "code",
   "execution_count": 72,
   "metadata": {},
   "outputs": [
    {
     "data": {
      "text/html": [
       "<div>\n",
       "<style>\n",
       "    .dataframe thead tr:only-child th {\n",
       "        text-align: right;\n",
       "    }\n",
       "\n",
       "    .dataframe thead th {\n",
       "        text-align: left;\n",
       "    }\n",
       "\n",
       "    .dataframe tbody tr th {\n",
       "        vertical-align: top;\n",
       "    }\n",
       "</style>\n",
       "<table border=\"1\" class=\"dataframe\">\n",
       "  <thead>\n",
       "    <tr style=\"text-align: right;\">\n",
       "      <th></th>\n",
       "      <th>attribute</th>\n",
       "      <th>female_names</th>\n",
       "      <th>male_names</th>\n",
       "    </tr>\n",
       "  </thead>\n",
       "  <tbody>\n",
       "    <tr>\n",
       "      <th>0</th>\n",
       "      <td>color</td>\n",
       "      <td>24.429967</td>\n",
       "      <td>9.821429</td>\n",
       "    </tr>\n",
       "    <tr>\n",
       "      <th>1</th>\n",
       "      <td>softAttitude</td>\n",
       "      <td>15.960912</td>\n",
       "      <td>13.392857</td>\n",
       "    </tr>\n",
       "    <tr>\n",
       "      <th>2</th>\n",
       "      <td>strongAttitude</td>\n",
       "      <td>2.280130</td>\n",
       "      <td>6.250000</td>\n",
       "    </tr>\n",
       "    <tr>\n",
       "      <th>3</th>\n",
       "      <td>cars</td>\n",
       "      <td>7.491857</td>\n",
       "      <td>8.035714</td>\n",
       "    </tr>\n",
       "    <tr>\n",
       "      <th>4</th>\n",
       "      <td>clothes</td>\n",
       "      <td>7.491857</td>\n",
       "      <td>6.250000</td>\n",
       "    </tr>\n",
       "    <tr>\n",
       "      <th>5</th>\n",
       "      <td>food</td>\n",
       "      <td>3.257329</td>\n",
       "      <td>2.678571</td>\n",
       "    </tr>\n",
       "    <tr>\n",
       "      <th>6</th>\n",
       "      <td>alcohol</td>\n",
       "      <td>10.423453</td>\n",
       "      <td>10.714286</td>\n",
       "    </tr>\n",
       "    <tr>\n",
       "      <th>7</th>\n",
       "      <td>bodylooks</td>\n",
       "      <td>11.074919</td>\n",
       "      <td>5.357143</td>\n",
       "    </tr>\n",
       "  </tbody>\n",
       "</table>\n",
       "</div>"
      ],
      "text/plain": [
       "        attribute  female_names  male_names\n",
       "0           color     24.429967    9.821429\n",
       "1    softAttitude     15.960912   13.392857\n",
       "2  strongAttitude      2.280130    6.250000\n",
       "3            cars      7.491857    8.035714\n",
       "4         clothes      7.491857    6.250000\n",
       "5            food      3.257329    2.678571\n",
       "6         alcohol     10.423453   10.714286\n",
       "7       bodylooks     11.074919    5.357143"
      ]
     },
     "execution_count": 72,
     "metadata": {},
     "output_type": "execute_result"
    }
   ],
   "source": [
    "confidence1"
   ]
  },
  {
   "cell_type": "code",
   "execution_count": null,
   "metadata": {
    "collapsed": true
   },
   "outputs": [],
   "source": []
  }
 ],
 "metadata": {
  "kernelspec": {
   "display_name": "Python 3",
   "language": "python",
   "name": "python3"
  },
  "language_info": {
   "codemirror_mode": {
    "name": "ipython",
    "version": 3
   },
   "file_extension": ".py",
   "mimetype": "text/x-python",
   "name": "python",
   "nbconvert_exporter": "python",
   "pygments_lexer": "ipython3",
   "version": "3.6.9"
  }
 },
 "nbformat": 4,
 "nbformat_minor": 2
}
