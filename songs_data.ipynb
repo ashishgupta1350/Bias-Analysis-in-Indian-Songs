{
 "cells": [
  {
   "cell_type": "code",
   "execution_count": 1,
   "metadata": {
    "collapsed": true
   },
   "outputs": [],
   "source": [
    "import pandas as pd\n",
    "import numpy as np\n",
    "import nltk\n",
    "import gensim \n",
    "from gensim.models.phrases import Phrases, Phraser\n",
    "import re\n",
    "from wordcloud import WordCloud\n",
    "import matplotlib.pyplot as plt\n",
    "from sklearn.feature_selection import SelectFromModel\n",
    "from sklearn.feature_extraction.text import TfidfVectorizer\n",
    "from sklearn.feature_extraction.text import CountVectorizer\n",
    "from collections import defaultdict\n",
    "from collections import Counter "
   ]
  },
  {
   "cell_type": "code",
   "execution_count": 2,
   "metadata": {
    "collapsed": true
   },
   "outputs": [],
   "source": [
    "data=pd.read_csv(\"Indian_songs.csv\")\n"
   ]
  },
  {
   "cell_type": "code",
   "execution_count": 3,
   "metadata": {},
   "outputs": [
    {
     "data": {
      "text/plain": [
       "(3027, 6)"
      ]
     },
     "execution_count": 3,
     "metadata": {},
     "output_type": "execute_result"
    }
   ],
   "source": [
    "data.shape\n"
   ]
  },
  {
   "cell_type": "code",
   "execution_count": 4,
   "metadata": {},
   "outputs": [
    {
     "data": {
      "text/html": [
       "<div>\n",
       "<style>\n",
       "    .dataframe thead tr:only-child th {\n",
       "        text-align: right;\n",
       "    }\n",
       "\n",
       "    .dataframe thead th {\n",
       "        text-align: left;\n",
       "    }\n",
       "\n",
       "    .dataframe tbody tr th {\n",
       "        vertical-align: top;\n",
       "    }\n",
       "</style>\n",
       "<table border=\"1\" class=\"dataframe\">\n",
       "  <thead>\n",
       "    <tr style=\"text-align: right;\">\n",
       "      <th></th>\n",
       "      <th>movieName</th>\n",
       "      <th>songName</th>\n",
       "      <th>songSinger</th>\n",
       "      <th>songMusic</th>\n",
       "      <th>songLyricist</th>\n",
       "      <th>songLyrics</th>\n",
       "    </tr>\n",
       "  </thead>\n",
       "  <tbody>\n",
       "    <tr>\n",
       "      <th>0</th>\n",
       "      <td>Bala</td>\n",
       "      <td>Don’t Be Shy</td>\n",
       "      <td>Badshah, Shalmali Kholgade, Gurdeep Mehendi</td>\n",
       "      <td>Sachin-Jigar</td>\n",
       "      <td>Mellow D, Badshah</td>\n",
       "      <td>Sun, main hoon thoda sanki\\nKarun mann ki\\nBab...</td>\n",
       "    </tr>\n",
       "    <tr>\n",
       "      <th>1</th>\n",
       "      <td>Laal Kaptaan</td>\n",
       "      <td>Lahu Ka Rang Kara</td>\n",
       "      <td>Samira Koppikar</td>\n",
       "      <td>Samira Koppikar</td>\n",
       "      <td>Sahib</td>\n",
       "      <td>Morey.. lahu ka rang kara\\nMorey lahu ka rang ...</td>\n",
       "    </tr>\n",
       "    <tr>\n",
       "      <th>2</th>\n",
       "      <td>Laal Kaptaan</td>\n",
       "      <td>Red Red Najariya</td>\n",
       "      <td>Shreya Ghoshal</td>\n",
       "      <td>Samira Koppikar</td>\n",
       "      <td>Saurabh Jain</td>\n",
       "      <td>Badnaam shehar, badnaam gully\\nIsme har raat h...</td>\n",
       "    </tr>\n",
       "    <tr>\n",
       "      <th>3</th>\n",
       "      <td>Laal Kaptaan</td>\n",
       "      <td>Kaal Kaal</td>\n",
       "      <td>Brijesh Shandilya, Dino James</td>\n",
       "      <td>Samira Koppikar</td>\n",
       "      <td>Saurabh Jain</td>\n",
       "      <td>Kaal kaal, kaal kaal, jo sapaat chal raha\\nWo ...</td>\n",
       "    </tr>\n",
       "    <tr>\n",
       "      <th>4</th>\n",
       "      <td>Laal Kaptaan</td>\n",
       "      <td>Taandav</td>\n",
       "      <td>Kailash Kher, Brijesh Shandilya</td>\n",
       "      <td>Samira Koppikar</td>\n",
       "      <td>Puneet Sharma</td>\n",
       "      <td>Shor hai andher mein\\nJo dher murda pedon ka\\n...</td>\n",
       "    </tr>\n",
       "  </tbody>\n",
       "</table>\n",
       "</div>"
      ],
      "text/plain": [
       "      movieName           songName  \\\n",
       "0          Bala       Don’t Be Shy   \n",
       "1  Laal Kaptaan  Lahu Ka Rang Kara   \n",
       "2  Laal Kaptaan   Red Red Najariya   \n",
       "3  Laal Kaptaan          Kaal Kaal   \n",
       "4  Laal Kaptaan            Taandav   \n",
       "\n",
       "                                    songSinger        songMusic  \\\n",
       "0  Badshah, Shalmali Kholgade, Gurdeep Mehendi     Sachin-Jigar   \n",
       "1                              Samira Koppikar  Samira Koppikar   \n",
       "2                               Shreya Ghoshal  Samira Koppikar   \n",
       "3                Brijesh Shandilya, Dino James  Samira Koppikar   \n",
       "4              Kailash Kher, Brijesh Shandilya  Samira Koppikar   \n",
       "\n",
       "        songLyricist                                         songLyrics  \n",
       "0  Mellow D, Badshah  Sun, main hoon thoda sanki\\nKarun mann ki\\nBab...  \n",
       "1              Sahib  Morey.. lahu ka rang kara\\nMorey lahu ka rang ...  \n",
       "2       Saurabh Jain  Badnaam shehar, badnaam gully\\nIsme har raat h...  \n",
       "3       Saurabh Jain  Kaal kaal, kaal kaal, jo sapaat chal raha\\nWo ...  \n",
       "4      Puneet Sharma  Shor hai andher mein\\nJo dher murda pedon ka\\n...  "
      ]
     },
     "execution_count": 4,
     "metadata": {},
     "output_type": "execute_result"
    }
   ],
   "source": [
    "data.head()"
   ]
  },
  {
   "cell_type": "markdown",
   "metadata": {},
   "source": [
    "# simple lyrics doc"
   ]
  },
  {
   "cell_type": "code",
   "execution_count": 5,
   "metadata": {
    "collapsed": true
   },
   "outputs": [],
   "source": [
    "doc=[]\n",
    "for i in range(data.shape[0]):\n",
    "    doc.append(nltk.word_tokenize(re.sub('[^a-zA-z\\s]','',data['songLyrics'][i].lower())))"
   ]
  },
  {
   "cell_type": "code",
   "execution_count": 6,
   "metadata": {},
   "outputs": [
    {
     "data": {
      "text/plain": [
       "['sun',\n",
       " 'main',\n",
       " 'hoon',\n",
       " 'thoda',\n",
       " 'sanki',\n",
       " 'karun',\n",
       " 'mann',\n",
       " 'ki',\n",
       " 'baby',\n",
       " 'gaana',\n",
       " 'lagade',\n",
       " 'thoda',\n",
       " 'funky',\n",
       " 'nahi',\n",
       " 'mann',\n",
       " 'ki',\n",
       " 'nahi',\n",
       " 'dhan',\n",
       " 'ki',\n",
       " 'ye',\n",
       " 'baat',\n",
       " 'hai',\n",
       " 'tere',\n",
       " 'tann',\n",
       " 'ki',\n",
       " 'paagal',\n",
       " 'ho',\n",
       " 'jaaun',\n",
       " 'jab',\n",
       " 'tu',\n",
       " 'ho',\n",
       " 'rubaru',\n",
       " 'na',\n",
       " 'lamba',\n",
       " 'ocha',\n",
       " 'gora',\n",
       " 'chitta',\n",
       " 'phir',\n",
       " 'bhi',\n",
       " 'dil',\n",
       " 'mein',\n",
       " 'tu',\n",
       " 'ishq',\n",
       " 'ne',\n",
       " 'tere',\n",
       " 'kiya',\n",
       " 'hai',\n",
       " 'bekaboo',\n",
       " 'jaisa',\n",
       " 'hai',\n",
       " 'waisa',\n",
       " 'hi',\n",
       " 'pasand',\n",
       " 'mujhko',\n",
       " 'tu',\n",
       " 'jaanu',\n",
       " 'i',\n",
       " 'just',\n",
       " 'wan',\n",
       " 'na',\n",
       " 'feel',\n",
       " 'your',\n",
       " 'body',\n",
       " 'saanu',\n",
       " 'kare',\n",
       " 'ishaare',\n",
       " 'touch',\n",
       " 'my',\n",
       " 'body',\n",
       " 'dont',\n",
       " 'be',\n",
       " 'shy',\n",
       " 'my',\n",
       " 'honey',\n",
       " 'saanu',\n",
       " 'kare',\n",
       " 'ishaare',\n",
       " 'i',\n",
       " 'wan',\n",
       " 'na',\n",
       " 'feel',\n",
       " 'your',\n",
       " 'body',\n",
       " 'saanu',\n",
       " 'kare',\n",
       " 'ishaare',\n",
       " 'touch',\n",
       " 'my',\n",
       " 'body',\n",
       " 'dont',\n",
       " 'be',\n",
       " 'shy',\n",
       " 'my',\n",
       " 'honey',\n",
       " 'saanu',\n",
       " 'kare',\n",
       " 'ishaare',\n",
       " 'touch',\n",
       " 'my',\n",
       " 'body',\n",
       " 'fly',\n",
       " 'my',\n",
       " 'honey',\n",
       " 'dont',\n",
       " 'be',\n",
       " 'shy',\n",
       " 'my',\n",
       " 'honey',\n",
       " 'befikar',\n",
       " 'fly',\n",
       " 'my',\n",
       " 'honey',\n",
       " 'dont',\n",
       " 'be',\n",
       " 'shy',\n",
       " 'my',\n",
       " 'honey',\n",
       " 'sun',\n",
       " 'main',\n",
       " 'hoon',\n",
       " 'thoda',\n",
       " 'sanki',\n",
       " 'karun',\n",
       " 'mann',\n",
       " 'ki',\n",
       " 'baby',\n",
       " 'gaana',\n",
       " 'lagade',\n",
       " 'thoda',\n",
       " 'funky',\n",
       " 'nahi',\n",
       " 'mann',\n",
       " 'ki',\n",
       " 'nahi',\n",
       " 'dhan',\n",
       " 'ki',\n",
       " 'ye',\n",
       " 'baat',\n",
       " 'hai',\n",
       " 'tere',\n",
       " 'tann',\n",
       " 'ki',\n",
       " 'kuch',\n",
       " 'bhi',\n",
       " 'bole',\n",
       " 'bina',\n",
       " 'aankhon',\n",
       " 'se',\n",
       " 'tu',\n",
       " 'baat',\n",
       " 'kare',\n",
       " 'ye',\n",
       " 'shaitani',\n",
       " 'jaan',\n",
       " 'bujhke',\n",
       " 'mere',\n",
       " 'saath',\n",
       " 'kare',\n",
       " 'tujhko',\n",
       " 'dekhe',\n",
       " 'bina',\n",
       " 'dil',\n",
       " 'mera',\n",
       " 'ab',\n",
       " 'kahin',\n",
       " 'lage',\n",
       " 'nahi',\n",
       " 'tere',\n",
       " 'husn',\n",
       " 'pe',\n",
       " 'aankhein',\n",
       " 'sek',\n",
       " 'sek',\n",
       " 'kar',\n",
       " 'thake',\n",
       " 'nahi',\n",
       " 'upar',\n",
       " 'se',\n",
       " 'raat',\n",
       " 'hoti',\n",
       " 'ja',\n",
       " 'rahi',\n",
       " 'hai',\n",
       " 'naughty',\n",
       " 'naughty',\n",
       " 'naughty',\n",
       " 'dont',\n",
       " 'be',\n",
       " 'shy',\n",
       " 'my',\n",
       " 'honey',\n",
       " 'i',\n",
       " 'wan',\n",
       " 'na',\n",
       " 'feel',\n",
       " 'your',\n",
       " 'body',\n",
       " 'saanu',\n",
       " 'kare',\n",
       " 'ishaare',\n",
       " 'touch',\n",
       " 'my',\n",
       " 'body',\n",
       " 'dont',\n",
       " 'be',\n",
       " 'shy',\n",
       " 'my',\n",
       " 'honey',\n",
       " 'saanu',\n",
       " 'kare',\n",
       " 'ishaare',\n",
       " 'touch',\n",
       " 'my',\n",
       " 'body',\n",
       " 'i',\n",
       " 'wan',\n",
       " 'na',\n",
       " 'feel',\n",
       " 'your',\n",
       " 'body',\n",
       " 'saanu',\n",
       " 'kare',\n",
       " 'ishaare',\n",
       " 'touch',\n",
       " 'my',\n",
       " 'body',\n",
       " 'dont',\n",
       " 'be',\n",
       " 'shy',\n",
       " 'my',\n",
       " 'honey',\n",
       " 'saanu',\n",
       " 'kare',\n",
       " 'ishaare',\n",
       " 'touch',\n",
       " 'my',\n",
       " 'body',\n",
       " 'fly',\n",
       " 'my',\n",
       " 'honey',\n",
       " 'dont',\n",
       " 'be',\n",
       " 'shy',\n",
       " 'my',\n",
       " 'honey',\n",
       " 'befikar',\n",
       " 'fly',\n",
       " 'my',\n",
       " 'honey',\n",
       " 'dont',\n",
       " 'be',\n",
       " 'shy',\n",
       " 'my',\n",
       " 'honey']"
      ]
     },
     "execution_count": 6,
     "metadata": {},
     "output_type": "execute_result"
    }
   ],
   "source": [
    "doc[0]"
   ]
  },
  {
   "cell_type": "markdown",
   "metadata": {},
   "source": [
    "# without repitition"
   ]
  },
  {
   "cell_type": "code",
   "execution_count": 7,
   "metadata": {
    "collapsed": true
   },
   "outputs": [],
   "source": [
    "doc_sent=[]\n",
    "for i in range(data.shape[0]):\n",
    "    doc_sent.append(re.sub('[^a-zA-z\\s]','',data['songLyrics'][i].lower()).split(\"\\n\"))\n",
    "nonrep_doc=[]\n",
    "for song in doc_sent:\n",
    "    d=[]\n",
    "    for line in song:\n",
    "        if line not in d:\n",
    "            d.append(line)\n",
    "    nonrep_doc.append(d)\n",
    "        "
   ]
  },
  {
   "cell_type": "code",
   "execution_count": 8,
   "metadata": {},
   "outputs": [
    {
     "data": {
      "text/plain": [
       "['sun main hoon thoda sanki',\n",
       " 'karun mann ki',\n",
       " 'baby gaana lagade thoda funky',\n",
       " 'nahi mann ki',\n",
       " 'nahi dhan ki',\n",
       " 'ye baat hai tere tann ki',\n",
       " '',\n",
       " 'paagal ho jaaun jab tu ho rubaru',\n",
       " 'na lamba ocha gora chitta',\n",
       " 'phir bhi dil mein tu',\n",
       " 'ishq ne tere kiya hai bekaboo',\n",
       " 'jaisa hai waisa hi pasand mujhko tu jaanu',\n",
       " 'i just wanna feel your body',\n",
       " 'saanu kare ishaare',\n",
       " 'touch my body',\n",
       " 'dont be shy my honey',\n",
       " 'i wanna feel your body',\n",
       " 'fly my honey',\n",
       " 'befikar fly my honey',\n",
       " 'kuch bhi bole bina',\n",
       " 'aankhon se tu baat kare',\n",
       " 'ye shaitani jaan bujhke mere saath kare',\n",
       " 'tujhko dekhe bina dil mera ab kahin lage nahi',\n",
       " 'tere husn pe aankhein sek sek kar thake nahi',\n",
       " 'upar se raat hoti ja rahi hai naughty naughty naughty']"
      ]
     },
     "execution_count": 8,
     "metadata": {},
     "output_type": "execute_result"
    }
   ],
   "source": [
    "nonrep_doc[0]"
   ]
  },
  {
   "cell_type": "markdown",
   "metadata": {},
   "source": [
    "# line wise doc"
   ]
  },
  {
   "cell_type": "code",
   "execution_count": 9,
   "metadata": {
    "collapsed": true
   },
   "outputs": [],
   "source": [
    "lyrics_sent=[]\n",
    "for i in nonrep_doc:\n",
    "    for j in i:\n",
    "        lyrics_sent.append(nltk.word_tokenize(j))"
   ]
  },
  {
   "cell_type": "code",
   "execution_count": 10,
   "metadata": {},
   "outputs": [
    {
     "data": {
      "text/plain": [
       "['sun', 'main', 'hoon', 'thoda', 'sanki']"
      ]
     },
     "execution_count": 10,
     "metadata": {},
     "output_type": "execute_result"
    }
   ],
   "source": [
    "lyrics_sent[0]"
   ]
  },
  {
   "cell_type": "code",
   "execution_count": null,
   "metadata": {
    "collapsed": true
   },
   "outputs": [],
   "source": []
  },
  {
   "cell_type": "markdown",
   "metadata": {},
   "source": [
    "# creating dictt"
   ]
  },
  {
   "cell_type": "code",
   "execution_count": 11,
   "metadata": {
    "collapsed": true
   },
   "outputs": [],
   "source": [
    "hindidictt= pd.read_csv(\"Hindi - Word Transliteration Pairs 1.txt\", header=None,delimiter='\\t')\n",
    "hindidictt.columns=['Eng','Hin']"
   ]
  },
  {
   "cell_type": "code",
   "execution_count": 12,
   "metadata": {},
   "outputs": [
    {
     "data": {
      "text/html": [
       "<div>\n",
       "<style>\n",
       "    .dataframe thead tr:only-child th {\n",
       "        text-align: right;\n",
       "    }\n",
       "\n",
       "    .dataframe thead th {\n",
       "        text-align: left;\n",
       "    }\n",
       "\n",
       "    .dataframe tbody tr th {\n",
       "        vertical-align: top;\n",
       "    }\n",
       "</style>\n",
       "<table border=\"1\" class=\"dataframe\">\n",
       "  <thead>\n",
       "    <tr style=\"text-align: right;\">\n",
       "      <th></th>\n",
       "      <th>Eng</th>\n",
       "      <th>Hin</th>\n",
       "    </tr>\n",
       "  </thead>\n",
       "  <tbody>\n",
       "    <tr>\n",
       "      <th>0</th>\n",
       "      <td>khushboo</td>\n",
       "      <td>खुशबू</td>\n",
       "    </tr>\n",
       "    <tr>\n",
       "      <th>1</th>\n",
       "      <td>khushbuu</td>\n",
       "      <td>खुशबू</td>\n",
       "    </tr>\n",
       "    <tr>\n",
       "      <th>2</th>\n",
       "      <td>khushbu</td>\n",
       "      <td>खुशबू</td>\n",
       "    </tr>\n",
       "    <tr>\n",
       "      <th>3</th>\n",
       "      <td>khusbhu</td>\n",
       "      <td>खुशबू</td>\n",
       "    </tr>\n",
       "    <tr>\n",
       "      <th>4</th>\n",
       "      <td>tera</td>\n",
       "      <td>तेरा</td>\n",
       "    </tr>\n",
       "  </tbody>\n",
       "</table>\n",
       "</div>"
      ],
      "text/plain": [
       "        Eng    Hin\n",
       "0  khushboo  खुशबू\n",
       "1  khushbuu  खुशबू\n",
       "2   khushbu  खुशबू\n",
       "3   khusbhu  खुशबू\n",
       "4      tera   तेरा"
      ]
     },
     "execution_count": 12,
     "metadata": {},
     "output_type": "execute_result"
    }
   ],
   "source": [
    "hindidictt.head()"
   ]
  },
  {
   "cell_type": "code",
   "execution_count": 13,
   "metadata": {
    "collapsed": true
   },
   "outputs": [],
   "source": [
    "EtoH={}\n",
    "for i in range(len(hindidictt)):\n",
    "    EtoH[hindidictt['Eng'][i]]=hindidictt['Hin'][i]"
   ]
  },
  {
   "cell_type": "code",
   "execution_count": 14,
   "metadata": {
    "collapsed": true
   },
   "outputs": [],
   "source": [
    "HtoE={}\n",
    "x=len(hindidictt)-1\n",
    "while x>=0:\n",
    "    HtoE[hindidictt['Hin'][x]]=hindidictt['Eng'][x]\n",
    "    x=x-1"
   ]
  },
  {
   "cell_type": "code",
   "execution_count": null,
   "metadata": {
    "collapsed": true
   },
   "outputs": [],
   "source": []
  },
  {
   "cell_type": "markdown",
   "metadata": {},
   "source": [
    "# word2vec on simple lyrics"
   ]
  },
  {
   "cell_type": "markdown",
   "metadata": {},
   "source": [
    "without dictt"
   ]
  },
  {
   "cell_type": "code",
   "execution_count": 15,
   "metadata": {
    "collapsed": true
   },
   "outputs": [],
   "source": [
    "w2v_model = gensim.models.Word2Vec(doc,size=300,window=15,min_count=2,workers=10,iter=10) "
   ]
  },
  {
   "cell_type": "code",
   "execution_count": 16,
   "metadata": {},
   "outputs": [
    {
     "data": {
      "text/plain": [
       "[('bhadki', 0.7658559083938599),\n",
       " ('bholi', 0.7557170391082764),\n",
       " ('nakhrezi', 0.7509742975234985),\n",
       " ('nagin', 0.7416472434997559),\n",
       " ('pagli', 0.7378005981445312),\n",
       " ('bolti', 0.7344050407409668),\n",
       " ('kadki', 0.7296107411384583),\n",
       " ('uski', 0.7186790704727173),\n",
       " ('chull', 0.7177284955978394),\n",
       " ('tezi', 0.7129014134407043),\n",
       " ('ladka', 0.7054895758628845),\n",
       " ('lakdi', 0.7050880193710327),\n",
       " ('tabiyat', 0.6971628665924072),\n",
       " ('shaamat', 0.6957572102546692),\n",
       " ('kharaab', 0.6894088983535767),\n",
       " ('gharwaali', 0.6842488646507263),\n",
       " ('kiski', 0.6826586723327637),\n",
       " ('sharaab', 0.6816666126251221),\n",
       " ('sanwali', 0.680025577545166),\n",
       " ('jamaaye', 0.6791594624519348),\n",
       " ('thenga', 0.6790791749954224),\n",
       " ('naadaan', 0.6780648231506348),\n",
       " ('padti', 0.6755293607711792),\n",
       " ('komalkomal', 0.6725174188613892),\n",
       " ('niklegi', 0.6678140759468079),\n",
       " ('mastani', 0.6676426529884338),\n",
       " ('hasina', 0.6643911004066467),\n",
       " ('jungli', 0.6633493304252625),\n",
       " ('taisi', 0.6632841229438782),\n",
       " ('iaditi', 0.6602733135223389)]"
      ]
     },
     "execution_count": 16,
     "metadata": {},
     "output_type": "execute_result"
    }
   ],
   "source": [
    "w2v_model.wv.most_similar(positive=[\"ladki\"],topn=30)"
   ]
  },
  {
   "cell_type": "code",
   "execution_count": 61,
   "metadata": {},
   "outputs": [
    {
     "data": {
      "text/plain": [
       "[('wikipedia', 0.7981844544410706),\n",
       " ('at', 0.7961621284484863),\n",
       " ('babuji', 0.7953083515167236),\n",
       " ('boy', 0.7578973770141602),\n",
       " ('criminal', 0.7533833980560303),\n",
       " ('blaring', 0.7497865557670593),\n",
       " ('girl', 0.7464805841445923),\n",
       " ('killar', 0.7429620623588562),\n",
       " ('been', 0.7390487194061279),\n",
       " ('your', 0.7331137657165527),\n",
       " ('talk', 0.7304757237434387),\n",
       " ('tryna', 0.7227292060852051),\n",
       " ('smile', 0.7219364047050476),\n",
       " ('getting', 0.7210797071456909),\n",
       " ('adayein', 0.7206111550331116),\n",
       " ('cheers', 0.7191591262817383),\n",
       " ('stop', 0.7178800702095032),\n",
       " ('sirens', 0.717401921749115),\n",
       " ('see', 0.7167708277702332),\n",
       " ('ego', 0.7154247760772705),\n",
       " ('eyes', 0.7130755186080933),\n",
       " ('janhit', 0.7108755707740784),\n",
       " ('shubrubabru', 0.7101786732673645),\n",
       " ('dream', 0.7093521356582642),\n",
       " ('angel', 0.7074534893035889),\n",
       " ('lets', 0.7052059173583984),\n",
       " ('youre', 0.7045307159423828),\n",
       " ('everybody', 0.7038923501968384),\n",
       " ('by', 0.7031441330909729),\n",
       " ('looking', 0.6993191242218018)]"
      ]
     },
     "execution_count": 61,
     "metadata": {},
     "output_type": "execute_result"
    }
   ],
   "source": [
    "w2v_model.wv.most_similar(positive=[\"look\"],topn=30)"
   ]
  },
  {
   "cell_type": "code",
   "execution_count": null,
   "metadata": {
    "collapsed": true
   },
   "outputs": [],
   "source": []
  },
  {
   "cell_type": "code",
   "execution_count": null,
   "metadata": {
    "collapsed": true
   },
   "outputs": [],
   "source": []
  },
  {
   "cell_type": "code",
   "execution_count": null,
   "metadata": {
    "collapsed": true
   },
   "outputs": [],
   "source": []
  },
  {
   "cell_type": "markdown",
   "metadata": {},
   "source": [
    "using dictt"
   ]
  },
  {
   "cell_type": "code",
   "execution_count": 17,
   "metadata": {},
   "outputs": [],
   "source": [
    "for i in range(len(doc)):\n",
    "    for l in range(len(doc[i])):\n",
    "        j=doc[i][l]\n",
    "        if j in EtoH:\n",
    "            k=EtoH[j]\n",
    "            doc[i][l]=HtoE[k]\n",
    "   "
   ]
  },
  {
   "cell_type": "code",
   "execution_count": 18,
   "metadata": {
    "collapsed": true
   },
   "outputs": [],
   "source": [
    "w2v_model1 = gensim.models.Word2Vec(doc,size=300,window=15,min_count=2,workers=10,iter=10) "
   ]
  },
  {
   "cell_type": "code",
   "execution_count": 19,
   "metadata": {},
   "outputs": [
    {
     "data": {
      "text/plain": [
       "[('bholi', 0.740206241607666),\n",
       " ('kadaki', 0.7264542579650879),\n",
       " ('chull', 0.7113338708877563),\n",
       " ('pagali', 0.7093102931976318),\n",
       " ('ekdam', 0.707396388053894),\n",
       " ('sharaab', 0.6981011033058167),\n",
       " ('marey', 0.697447657585144),\n",
       " ('sabaah', 0.6855283975601196),\n",
       " ('beautiful', 0.6849833130836487),\n",
       " ('bhadki', 0.6770075559616089),\n",
       " ('ladka', 0.672040581703186),\n",
       " ('tabiyat', 0.6692796349525452),\n",
       " ('shaamat', 0.6682986617088318),\n",
       " ('garm', 0.6662520170211792),\n",
       " ('komalkomal', 0.6658504009246826),\n",
       " ('taisi', 0.6654826998710632),\n",
       " ('hirani', 0.664230465888977),\n",
       " ('maserati', 0.6613790392875671),\n",
       " ('strongraftaarstrong', 0.6604737043380737),\n",
       " ('buddhi', 0.659834623336792),\n",
       " ('saanvali', 0.6598261594772339),\n",
       " ('padati', 0.6539756059646606),\n",
       " ('lagti', 0.6511334776878357),\n",
       " ('dheeli', 0.6490904092788696),\n",
       " ('aadmi', 0.6471246480941772),\n",
       " ('bolti', 0.6463819742202759),\n",
       " ('muskurayenge', 0.6436578035354614),\n",
       " ('jhulaaye', 0.6422997713088989),\n",
       " ('naadaan', 0.6364174485206604),\n",
       " ('banegi', 0.6322613954544067)]"
      ]
     },
     "execution_count": 19,
     "metadata": {},
     "output_type": "execute_result"
    }
   ],
   "source": [
    "w2v_model1.wv.most_similar(positive=[\"ladki\"],topn=30)"
   ]
  },
  {
   "cell_type": "code",
   "execution_count": 36,
   "metadata": {},
   "outputs": [
    {
     "data": {
      "text/plain": [
       "[('komalkomal', 0.8082857131958008),\n",
       " ('ghaas', 0.8002029657363892),\n",
       " ('naadaan', 0.7983545660972595),\n",
       " ('dkeh', 0.7945951223373413),\n",
       " ('tabiyat', 0.7943574786186218),\n",
       " ('pataaye', 0.79245924949646),\n",
       " ('affair', 0.7872856855392456),\n",
       " ('buddha', 0.7823206186294556),\n",
       " ('rakkhi', 0.7790163159370422),\n",
       " ('fillam', 0.7766212821006775),\n",
       " ('kukkad', 0.7764028310775757),\n",
       " ('aatish', 0.7762962579727173),\n",
       " ('teeno', 0.7740685939788818),\n",
       " ('alignment', 0.7727333903312683),\n",
       " ('mahadev', 0.7720894813537598),\n",
       " ('dheeli', 0.7716362476348877),\n",
       " ('badneeyat', 0.7701950073242188),\n",
       " ('unknown', 0.769494891166687),\n",
       " ('dhani', 0.7693310976028442),\n",
       " ('gundo', 0.7689433097839355),\n",
       " ('beatles', 0.7678130865097046),\n",
       " ('gannnakshatra', 0.7673767805099487),\n",
       " ('bombai', 0.7630811929702759),\n",
       " ('halava', 0.7617206573486328),\n",
       " ('kheenchon', 0.7615123987197876),\n",
       " ('snaan', 0.7607138156890869),\n",
       " ('buddhi', 0.7586770057678223),\n",
       " ('alaav', 0.7577664852142334),\n",
       " ('pakkad', 0.7571420073509216),\n",
       " ('effect', 0.7569316625595093)]"
      ]
     },
     "execution_count": 36,
     "metadata": {},
     "output_type": "execute_result"
    }
   ],
   "source": [
    "w2v_model1.wv.most_similar(positive=[\"ladka\"],topn=30)"
   ]
  },
  {
   "cell_type": "code",
   "execution_count": null,
   "metadata": {
    "collapsed": true
   },
   "outputs": [],
   "source": []
  },
  {
   "cell_type": "code",
   "execution_count": null,
   "metadata": {
    "collapsed": true
   },
   "outputs": [],
   "source": []
  },
  {
   "cell_type": "markdown",
   "metadata": {},
   "source": [
    "# word2vec using non repeating lyrics doc"
   ]
  },
  {
   "cell_type": "markdown",
   "metadata": {},
   "source": [
    "without dictt"
   ]
  },
  {
   "cell_type": "code",
   "execution_count": 20,
   "metadata": {
    "collapsed": true
   },
   "outputs": [],
   "source": [
    "doc1=[]\n",
    "for i in range(data.shape[0]):\n",
    "    doc1.append(nltk.word_tokenize(\" \".join(nonrep_doc[i])))"
   ]
  },
  {
   "cell_type": "code",
   "execution_count": 21,
   "metadata": {},
   "outputs": [],
   "source": [
    "w2v_model2 = gensim.models.Word2Vec(doc1,size=300,window=15,min_count=2,workers=10,iter=10) "
   ]
  },
  {
   "cell_type": "code",
   "execution_count": 22,
   "metadata": {},
   "outputs": [
    {
     "data": {
      "text/plain": [
       "[('uski', 0.8006220459938049),\n",
       " ('isliye', 0.7830924391746521),\n",
       " ('dikhlati', 0.7764444947242737),\n",
       " ('philosophy', 0.7728574275970459),\n",
       " ('maasa', 0.7676728963851929),\n",
       " ('chhooti', 0.7670385837554932),\n",
       " ('nagin', 0.7654126286506653),\n",
       " ('bhadki', 0.7606104612350464),\n",
       " ('aandhi', 0.7570255994796753),\n",
       " ('lagti', 0.7569928765296936),\n",
       " ('sharaab', 0.7562861442565918),\n",
       " ('po', 0.7557681202888489),\n",
       " ('adayein', 0.753081202507019),\n",
       " ('bholi', 0.7506587505340576),\n",
       " ('shauq', 0.7502321600914001),\n",
       " ('sanwali', 0.7468936443328857),\n",
       " ('chull', 0.7431329488754272),\n",
       " ('bolti', 0.7426114082336426),\n",
       " ('hindustani', 0.7411711812019348),\n",
       " ('tola', 0.739315927028656),\n",
       " ('imliyon', 0.7383874654769897),\n",
       " ('nivaran', 0.7383432984352112),\n",
       " ('lakdi', 0.7328816652297974),\n",
       " ('tikhi', 0.7315342426300049),\n",
       " ('tezz', 0.730852484703064),\n",
       " ('babum', 0.7300989627838135),\n",
       " ('besharmi', 0.7271488904953003),\n",
       " ('tapori', 0.727026641368866),\n",
       " ('fuljhadi', 0.7241003513336182),\n",
       " ('khaamiyan', 0.7223764061927795)]"
      ]
     },
     "execution_count": 22,
     "metadata": {},
     "output_type": "execute_result"
    }
   ],
   "source": [
    "w2v_model2.wv.most_similar(positive=[\"ladki\"],topn=30)"
   ]
  },
  {
   "cell_type": "code",
   "execution_count": 38,
   "metadata": {},
   "outputs": [
    {
     "data": {
      "text/plain": [
       "[('tabiyat', 0.9394675493240356),\n",
       " ('udati', 0.9370902180671692),\n",
       " ('sharab', 0.9344600439071655),\n",
       " ('nadaani', 0.9282681941986084),\n",
       " ('isi', 0.9280832409858704),\n",
       " ('baantein', 0.9238791465759277),\n",
       " ('sharaba', 0.9229364395141602),\n",
       " ('teeno', 0.922819972038269),\n",
       " ('kheli', 0.9218839406967163),\n",
       " ('vaani', 0.9202572107315063),\n",
       " ('shama', 0.9202229976654053),\n",
       " ('tedhi', 0.9197221398353577),\n",
       " ('peena', 0.9191327095031738),\n",
       " ('ikki', 0.9177263975143433),\n",
       " ('taakat', 0.9174764752388),\n",
       " ('unknown', 0.9173531532287598),\n",
       " ('handa', 0.9165998697280884),\n",
       " ('khatra', 0.9148816466331482),\n",
       " ('copy', 0.913922905921936),\n",
       " ('insaani', 0.9138121604919434),\n",
       " ('dhareya', 0.9137499928474426),\n",
       " ('kijiye', 0.9134860634803772),\n",
       " ('behisab', 0.9132664799690247),\n",
       " ('dehki', 0.9123424291610718),\n",
       " ('bhasa', 0.9122605323791504),\n",
       " ('byopari', 0.9110100269317627),\n",
       " ('khauf', 0.9109174013137817),\n",
       " ('dhaba', 0.9095838665962219),\n",
       " ('loss', 0.9095075726509094),\n",
       " ('uthaya', 0.9094421863555908)]"
      ]
     },
     "execution_count": 38,
     "metadata": {},
     "output_type": "execute_result"
    }
   ],
   "source": [
    "w2v_model2.wv.most_similar(positive=[\"ladka\"],topn=30)"
   ]
  },
  {
   "cell_type": "code",
   "execution_count": null,
   "metadata": {
    "collapsed": true
   },
   "outputs": [],
   "source": []
  },
  {
   "cell_type": "markdown",
   "metadata": {},
   "source": [
    "using dictt"
   ]
  },
  {
   "cell_type": "code",
   "execution_count": 23,
   "metadata": {},
   "outputs": [],
   "source": [
    "for i in range(len(doc1)):\n",
    "    for l in range(len(doc1[i])):\n",
    "        j=doc1[i][l]\n",
    "        if j in EtoH:\n",
    "            k=EtoH[j]\n",
    "            doc1[i][l]=HtoE[k]\n",
    "     "
   ]
  },
  {
   "cell_type": "code",
   "execution_count": 24,
   "metadata": {
    "collapsed": true
   },
   "outputs": [],
   "source": [
    "w2v_model3 = gensim.models.Word2Vec(doc1,size=300,window=15,min_count=2,workers=10,iter=10) "
   ]
  },
  {
   "cell_type": "code",
   "execution_count": 34,
   "metadata": {},
   "outputs": [
    {
     "data": {
      "text/plain": [
       "[('bhasad', 0.8294181823730469),\n",
       " ('isliye', 0.7912216186523438),\n",
       " ('margarita', 0.7850803732872009),\n",
       " ('tikhi', 0.7811753153800964),\n",
       " ('bhaalu', 0.7800151109695435),\n",
       " ('shaamat', 0.7738759517669678),\n",
       " ('upar', 0.7734025716781616),\n",
       " ('besharmi', 0.7685476541519165),\n",
       " ('bolti', 0.7656598687171936),\n",
       " ('ladka', 0.7649540901184082),\n",
       " ('sherni', 0.7605345249176025),\n",
       " ('sabaki', 0.7581216096878052),\n",
       " ('fullon', 0.7565603852272034),\n",
       " ('imliyon', 0.7562714219093323),\n",
       " ('animal', 0.7561612129211426),\n",
       " ('zulfen', 0.7523071765899658),\n",
       " ('gandi', 0.7517340779304504),\n",
       " ('gully', 0.7509292364120483),\n",
       " ('mastiyaan', 0.7475036978721619),\n",
       " ('rokta', 0.7474570274353027),\n",
       " ('bachane', 0.7430034875869751),\n",
       " ('frustration', 0.7405591011047363),\n",
       " ('joote', 0.7362022399902344),\n",
       " ('aiyyo', 0.7331588268280029),\n",
       " ('ghooma', 0.7327808141708374),\n",
       " ('ac', 0.732765793800354),\n",
       " ('sharmaati', 0.7327355742454529),\n",
       " ('york', 0.7319541573524475),\n",
       " ('dirty', 0.7307860851287842),\n",
       " ('bop', 0.7298811674118042)]"
      ]
     },
     "execution_count": 34,
     "metadata": {},
     "output_type": "execute_result"
    }
   ],
   "source": [
    "w2v_model3.wv.most_similar(positive=[\"ladki\"],topn=30)"
   ]
  },
  {
   "cell_type": "code",
   "execution_count": 40,
   "metadata": {},
   "outputs": [
    {
     "data": {
      "text/plain": [
       "[('tabiyat', 0.9475221037864685),\n",
       " ('kijiye', 0.9408711194992065),\n",
       " ('gharavaali', 0.9392458200454712),\n",
       " ('affair', 0.9354391098022461),\n",
       " ('gardan', 0.9318481683731079),\n",
       " ('isi', 0.9308705925941467),\n",
       " ('inki', 0.9298444390296936),\n",
       " ('ujala', 0.9296845197677612),\n",
       " ('vaani', 0.9249085187911987),\n",
       " ('cheete', 0.9240995645523071),\n",
       " ('bheetar', 0.9225527048110962),\n",
       " ('sharaba', 0.9214366674423218),\n",
       " ('nange', 0.9210196733474731),\n",
       " ('bheje', 0.9207580089569092),\n",
       " ('kutegi', 0.9207130074501038),\n",
       " ('peekar', 0.920386791229248),\n",
       " ('citylights', 0.9203657507896423),\n",
       " ('mukshiya', 0.9203606843948364),\n",
       " ('boti', 0.9202898144721985),\n",
       " ('pujari', 0.920116662979126),\n",
       " ('scooter', 0.9192569255828857),\n",
       " ('gandi', 0.9191246032714844),\n",
       " ('karli', 0.9187825918197632),\n",
       " ('juuta', 0.9186747670173645),\n",
       " ('teeno', 0.9178236722946167),\n",
       " ('everyday', 0.9166399240493774),\n",
       " ('banti', 0.916577160358429),\n",
       " ('omkar', 0.915634274482727),\n",
       " ('tiya', 0.9150502681732178),\n",
       " ('dhandha', 0.9147684574127197)]"
      ]
     },
     "execution_count": 40,
     "metadata": {},
     "output_type": "execute_result"
    }
   ],
   "source": [
    "w2v_model3.wv.most_similar(positive=[\"ladka\"],topn=30)"
   ]
  },
  {
   "cell_type": "code",
   "execution_count": null,
   "metadata": {
    "collapsed": true
   },
   "outputs": [],
   "source": []
  },
  {
   "cell_type": "code",
   "execution_count": null,
   "metadata": {
    "collapsed": true
   },
   "outputs": [],
   "source": []
  },
  {
   "cell_type": "markdown",
   "metadata": {},
   "source": [
    "# word2vec doc-line wise "
   ]
  },
  {
   "cell_type": "markdown",
   "metadata": {},
   "source": [
    "without dictt"
   ]
  },
  {
   "cell_type": "code",
   "execution_count": 26,
   "metadata": {
    "collapsed": true
   },
   "outputs": [],
   "source": [
    "w2v_model4 = gensim.models.Word2Vec(lyrics_sent,size=300,window=10,min_count=2,workers=10,iter=10) "
   ]
  },
  {
   "cell_type": "code",
   "execution_count": 33,
   "metadata": {},
   "outputs": [
    {
     "data": {
      "text/plain": [
       "[('shabnami', 0.8927114605903625),\n",
       " ('ilteja', 0.8895827531814575),\n",
       " ('ladka', 0.8880984783172607),\n",
       " ('meethi', 0.8847825527191162),\n",
       " ('adhuri', 0.8837752342224121),\n",
       " ('khhal', 0.8831612467765808),\n",
       " ('lagti', 0.8790958523750305),\n",
       " ('adaa', 0.8722476959228516),\n",
       " ('hansi', 0.8680562973022461),\n",
       " ('mulaqaat', 0.864368200302124),\n",
       " ('narm', 0.8643609285354614),\n",
       " ('sargoshi', 0.8632267713546753),\n",
       " ('shartein', 0.8614993095397949),\n",
       " ('halki', 0.8607339859008789),\n",
       " ('talab', 0.8603284358978271),\n",
       " ('sheet', 0.8599220514297485),\n",
       " ('teekhi', 0.8589272499084473),\n",
       " ('aurat', 0.8581842184066772),\n",
       " ('tabahi', 0.8578122854232788),\n",
       " ('dabi', 0.8572455644607544),\n",
       " ('uski', 0.8572390079498291),\n",
       " ('achhi', 0.856391429901123),\n",
       " ('hasrat', 0.8563069105148315),\n",
       " ('saanwali', 0.8560760021209717),\n",
       " ('chingari', 0.8556385040283203),\n",
       " ('bigdi', 0.8552053570747375),\n",
       " ('rookhi', 0.854721188545227),\n",
       " ('leher', 0.8521286249160767),\n",
       " ('peedhi', 0.8510965704917908),\n",
       " ('jiski', 0.8492339849472046)]"
      ]
     },
     "execution_count": 33,
     "metadata": {},
     "output_type": "execute_result"
    }
   ],
   "source": [
    "w2v_model4.wv.most_similar(positive=[\"ladki\"],topn=30)"
   ]
  },
  {
   "cell_type": "code",
   "execution_count": 42,
   "metadata": {},
   "outputs": [
    {
     "data": {
      "text/plain": [
       "[('dilnasheen', 0.963772177696228),\n",
       " ('kaafi', 0.9495877027511597),\n",
       " ('sitara', 0.9483656883239746),\n",
       " ('tabahi', 0.9462727904319763),\n",
       " ('chhudaye', 0.9456583261489868),\n",
       " ('chumma', 0.944084644317627),\n",
       " ('disha', 0.9364385008811951),\n",
       " ('lehar', 0.9350032210350037),\n",
       " ('chingari', 0.9309958219528198),\n",
       " ('pyaasi', 0.930656909942627),\n",
       " ('judi', 0.9302205443382263),\n",
       " ('tika', 0.9301836490631104),\n",
       " ('mukhtasar', 0.930181622505188),\n",
       " ('chaaron', 0.9297844171524048),\n",
       " ('nashaa', 0.9263249635696411),\n",
       " ('bisra', 0.9255631566047668),\n",
       " ('maarpeet', 0.9254401922225952),\n",
       " ('leher', 0.9251890778541565),\n",
       " ('bhaagta', 0.9248265027999878),\n",
       " ('manto', 0.9247971773147583),\n",
       " ('sehra', 0.9247340559959412),\n",
       " ('guzra', 0.924484372138977),\n",
       " ('barsun', 0.924392819404602),\n",
       " ('mulaqaat', 0.9242676496505737),\n",
       " ('dhadakta', 0.9240180253982544),\n",
       " ('angle', 0.923642635345459),\n",
       " ('besabar', 0.9235888123512268),\n",
       " ('maange', 0.9234976768493652),\n",
       " ('makhmali', 0.9228940010070801),\n",
       " ('malaal', 0.9227485060691833)]"
      ]
     },
     "execution_count": 42,
     "metadata": {},
     "output_type": "execute_result"
    }
   ],
   "source": [
    "w2v_model4.wv.most_similar(positive=[\"ladka\"],topn=30)"
   ]
  },
  {
   "cell_type": "code",
   "execution_count": null,
   "metadata": {
    "collapsed": true
   },
   "outputs": [],
   "source": []
  },
  {
   "cell_type": "code",
   "execution_count": null,
   "metadata": {
    "collapsed": true
   },
   "outputs": [],
   "source": []
  },
  {
   "cell_type": "markdown",
   "metadata": {},
   "source": [
    "using dictt"
   ]
  },
  {
   "cell_type": "code",
   "execution_count": 28,
   "metadata": {},
   "outputs": [],
   "source": [
    "for i in range(len(lyrics_sent)):\n",
    "    for l in range(len(lyrics_sent[i])):\n",
    "        j=lyrics_sent[i][l]\n",
    "        if j in EtoH:\n",
    "            k=EtoH[j]\n",
    "            lyrics_sent[i][l]=HtoE[k]\n",
    "          "
   ]
  },
  {
   "cell_type": "code",
   "execution_count": 29,
   "metadata": {
    "collapsed": true
   },
   "outputs": [],
   "source": [
    "w2v_model5 = gensim.models.Word2Vec(lyrics_sent,size=300,window=10,min_count=2,workers=10,iter=10) "
   ]
  },
  {
   "cell_type": "code",
   "execution_count": 30,
   "metadata": {},
   "outputs": [
    {
     "data": {
      "text/plain": [
       "[('chingari', 0.9099149703979492),\n",
       " ('mulaaqaat', 0.9093437194824219),\n",
       " ('daasataan', 0.9052655696868896),\n",
       " ('adhuri', 0.9049338102340698),\n",
       " ('langoti', 0.9030437469482422),\n",
       " ('judi', 0.8964478969573975),\n",
       " ('nadi', 0.891637921333313),\n",
       " ('ulajhi', 0.8915126919746399),\n",
       " ('ladka', 0.8896576166152954),\n",
       " ('jhalak', 0.889411211013794),\n",
       " ('nadaani', 0.8869551420211792),\n",
       " ('lambi', 0.886256992816925),\n",
       " ('tishnagi', 0.886091947555542),\n",
       " ('lagti', 0.8856196999549866),\n",
       " ('nashaa', 0.8854144215583801),\n",
       " ('dikhi', 0.8851754665374756),\n",
       " ('hasrat', 0.8848868608474731),\n",
       " ('khamoshi', 0.8845192193984985),\n",
       " ('gaadi', 0.8843827247619629),\n",
       " ('rango', 0.88355553150177),\n",
       " ('aarzoo', 0.8833932876586914),\n",
       " ('ret', 0.8828492164611816),\n",
       " ('hansi', 0.8814917802810669),\n",
       " ('udaati', 0.8814011216163635),\n",
       " ('demand', 0.880613386631012),\n",
       " ('tamanaa', 0.877042829990387),\n",
       " ('ilteja', 0.8765590190887451),\n",
       " ('chuppi', 0.876535177230835),\n",
       " ('rishton', 0.8759307265281677),\n",
       " ('lipti', 0.8757636547088623)]"
      ]
     },
     "execution_count": 30,
     "metadata": {},
     "output_type": "execute_result"
    }
   ],
   "source": [
    "w2v_model5.wv.most_similar(positive=[\"ladki\"],topn=30)"
   ]
  },
  {
   "cell_type": "code",
   "execution_count": 43,
   "metadata": {},
   "outputs": [
    {
     "data": {
      "text/plain": [
       "[('banjar', 0.9644784927368164),\n",
       " ('chhudaye', 0.9529496431350708),\n",
       " ('lahar', 0.9516887664794922),\n",
       " ('imtehaan', 0.9489978551864624),\n",
       " ('toofaani', 0.9480761885643005),\n",
       " ('chumma', 0.9477107524871826),\n",
       " ('tadpaaye', 0.9475594162940979),\n",
       " ('rozana', 0.9459986090660095),\n",
       " ('chingari', 0.9453579783439636),\n",
       " ('hasne', 0.9439098834991455),\n",
       " ('chuppi', 0.9438514709472656),\n",
       " ('chowkidari', 0.9437969923019409),\n",
       " ('muskuraane', 0.9422505497932434),\n",
       " ('sehra', 0.9420530796051025),\n",
       " ('samandar', 0.940314531326294),\n",
       " ('kadaki', 0.9400314688682556),\n",
       " ('jismein', 0.9397870302200317),\n",
       " ('muskaan', 0.9393460750579834),\n",
       " ('kashti', 0.9389660358428955),\n",
       " ('nashaa', 0.9388132095336914),\n",
       " ('nikli', 0.938430666923523),\n",
       " ('hairat', 0.9377894997596741),\n",
       " ('makhmali', 0.93769371509552),\n",
       " ('ajeebsi', 0.9374241828918457),\n",
       " ('thandi', 0.9367092847824097),\n",
       " ('utni', 0.936041533946991),\n",
       " ('kaafi', 0.9357544183731079),\n",
       " ('khaatir', 0.9356319904327393),\n",
       " ('ulajhti', 0.93547523021698),\n",
       " ('ummeed', 0.9352965354919434)]"
      ]
     },
     "execution_count": 43,
     "metadata": {},
     "output_type": "execute_result"
    }
   ],
   "source": [
    "w2v_model5.wv.most_similar(positive=[\"ladka\"],topn=30)"
   ]
  },
  {
   "cell_type": "code",
   "execution_count": null,
   "metadata": {
    "collapsed": true
   },
   "outputs": [],
   "source": []
  },
  {
   "cell_type": "code",
   "execution_count": 98,
   "metadata": {},
   "outputs": [
    {
     "data": {
      "text/plain": [
       "'sharab'"
      ]
     },
     "execution_count": 98,
     "metadata": {},
     "output_type": "execute_result"
    }
   ],
   "source": [
    "HtoE[EtoH['sharab']]"
   ]
  },
  {
   "cell_type": "code",
   "execution_count": 70,
   "metadata": {},
   "outputs": [
    {
     "name": "stdout",
     "output_type": "stream",
     "text": [
      "['saakoon', 'nah', 'meet', 'bana', 'we', 'saawala']\n",
      "['sakun', 'nah', 'meet', 'bana', 'we', 'saawala']\n"
     ]
    }
   ],
   "source": [
    "for i in lyrics_sent:\n",
    "    if \"saawala\" in i:\n",
    "        print(i)"
   ]
  },
  {
   "cell_type": "code",
   "execution_count": null,
   "metadata": {
    "collapsed": true
   },
   "outputs": [],
   "source": []
  },
  {
   "cell_type": "code",
   "execution_count": 100,
   "metadata": {},
   "outputs": [
    {
     "data": {
      "text/plain": [
       "0.897436793825698"
      ]
     },
     "execution_count": 100,
     "metadata": {},
     "output_type": "execute_result"
    }
   ],
   "source": [
    "w2v_model3.wv.similarity(w1=\"ladka\",w2=\"sharab\")"
   ]
  },
  {
   "cell_type": "code",
   "execution_count": 88,
   "metadata": {},
   "outputs": [
    {
     "data": {
      "text/plain": [
       "0.7234995355469539"
      ]
     },
     "execution_count": 88,
     "metadata": {},
     "output_type": "execute_result"
    }
   ],
   "source": [
    "w2v_model5.wv.similarity(w1=\"ladka\",w2=\"saawala\")"
   ]
  },
  {
   "cell_type": "code",
   "execution_count": 99,
   "metadata": {},
   "outputs": [
    {
     "data": {
      "text/plain": [
       "0.6330556310961375"
      ]
     },
     "execution_count": 99,
     "metadata": {},
     "output_type": "execute_result"
    }
   ],
   "source": [
    "w2v_model3.wv.similarity(w1=\"ladki\",w2=\"sharab\")"
   ]
  },
  {
   "cell_type": "code",
   "execution_count": null,
   "metadata": {
    "collapsed": true
   },
   "outputs": [],
   "source": []
  },
  {
   "cell_type": "code",
   "execution_count": null,
   "metadata": {
    "collapsed": true
   },
   "outputs": [],
   "source": []
  },
  {
   "cell_type": "code",
   "execution_count": null,
   "metadata": {
    "collapsed": true
   },
   "outputs": [],
   "source": []
  },
  {
   "cell_type": "code",
   "execution_count": null,
   "metadata": {
    "collapsed": true
   },
   "outputs": [],
   "source": []
  },
  {
   "cell_type": "code",
   "execution_count": null,
   "metadata": {
    "collapsed": true
   },
   "outputs": [],
   "source": []
  },
  {
   "cell_type": "code",
   "execution_count": null,
   "metadata": {
    "collapsed": true
   },
   "outputs": [],
   "source": []
  },
  {
   "cell_type": "code",
   "execution_count": null,
   "metadata": {
    "collapsed": true
   },
   "outputs": [],
   "source": []
  },
  {
   "cell_type": "code",
   "execution_count": null,
   "metadata": {
    "collapsed": true
   },
   "outputs": [],
   "source": []
  },
  {
   "cell_type": "code",
   "execution_count": null,
   "metadata": {
    "collapsed": true
   },
   "outputs": [],
   "source": []
  },
  {
   "cell_type": "code",
   "execution_count": null,
   "metadata": {
    "collapsed": true
   },
   "outputs": [],
   "source": []
  },
  {
   "cell_type": "code",
   "execution_count": null,
   "metadata": {
    "collapsed": true
   },
   "outputs": [],
   "source": []
  },
  {
   "cell_type": "code",
   "execution_count": null,
   "metadata": {
    "collapsed": true
   },
   "outputs": [],
   "source": []
  },
  {
   "cell_type": "code",
   "execution_count": null,
   "metadata": {
    "collapsed": true
   },
   "outputs": [],
   "source": []
  },
  {
   "cell_type": "code",
   "execution_count": null,
   "metadata": {
    "collapsed": true
   },
   "outputs": [],
   "source": []
  },
  {
   "cell_type": "code",
   "execution_count": null,
   "metadata": {
    "collapsed": true
   },
   "outputs": [],
   "source": []
  },
  {
   "cell_type": "code",
   "execution_count": null,
   "metadata": {
    "collapsed": true
   },
   "outputs": [],
   "source": []
  },
  {
   "cell_type": "code",
   "execution_count": null,
   "metadata": {
    "collapsed": true
   },
   "outputs": [],
   "source": []
  },
  {
   "cell_type": "code",
   "execution_count": null,
   "metadata": {
    "collapsed": true
   },
   "outputs": [],
   "source": []
  },
  {
   "cell_type": "code",
   "execution_count": null,
   "metadata": {
    "collapsed": true
   },
   "outputs": [],
   "source": []
  },
  {
   "cell_type": "code",
   "execution_count": null,
   "metadata": {
    "collapsed": true
   },
   "outputs": [],
   "source": []
  },
  {
   "cell_type": "code",
   "execution_count": null,
   "metadata": {
    "collapsed": true
   },
   "outputs": [],
   "source": []
  },
  {
   "cell_type": "code",
   "execution_count": null,
   "metadata": {
    "collapsed": true
   },
   "outputs": [],
   "source": []
  },
  {
   "cell_type": "code",
   "execution_count": 31,
   "metadata": {},
   "outputs": [],
   "source": [
    "# w2v_model.wv.similarity(w1=\"ladki\",w2=\"makhmali\")"
   ]
  },
  {
   "cell_type": "code",
   "execution_count": 32,
   "metadata": {},
   "outputs": [],
   "source": [
    "# w2v_model.wv.similarity(w1=\"ladka\",w2=\"makhmali\")"
   ]
  },
  {
   "cell_type": "code",
   "execution_count": null,
   "metadata": {
    "collapsed": true
   },
   "outputs": [],
   "source": []
  },
  {
   "cell_type": "code",
   "execution_count": null,
   "metadata": {
    "collapsed": true
   },
   "outputs": [],
   "source": []
  },
  {
   "cell_type": "code",
   "execution_count": null,
   "metadata": {
    "collapsed": true
   },
   "outputs": [],
   "source": []
  },
  {
   "cell_type": "code",
   "execution_count": null,
   "metadata": {
    "collapsed": true
   },
   "outputs": [],
   "source": []
  },
  {
   "cell_type": "code",
   "execution_count": null,
   "metadata": {
    "collapsed": true
   },
   "outputs": [],
   "source": []
  }
 ],
 "metadata": {
  "kernelspec": {
   "display_name": "Python 3",
   "language": "python",
   "name": "python3"
  },
  "language_info": {
   "codemirror_mode": {
    "name": "ipython",
    "version": 3
   },
   "file_extension": ".py",
   "mimetype": "text/x-python",
   "name": "python",
   "nbconvert_exporter": "python",
   "pygments_lexer": "ipython3",
   "version": "3.6.3"
  }
 },
 "nbformat": 4,
 "nbformat_minor": 2
}
